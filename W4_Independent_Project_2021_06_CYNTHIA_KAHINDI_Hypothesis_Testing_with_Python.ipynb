{
  "nbformat": 4,
  "nbformat_minor": 0,
  "metadata": {
    "colab": {
      "name": "W4_Independent_Project_2021_06_CYNTHIA_KAHINDI_Hypothesis Testing with Python.ipynb",
      "provenance": [],
      "collapsed_sections": [],
      "toc_visible": true
    },
    "kernelspec": {
      "name": "python3",
      "display_name": "Python 3"
    }
  },
  "cells": [
    {
      "cell_type": "markdown",
      "metadata": {
        "id": "oFOgqxyOHZgr"
      },
      "source": [
        "# Hypothesis Testing Project"
      ]
    },
    {
      "cell_type": "markdown",
      "metadata": {
        "id": "MGVZD_bzHtCv"
      },
      "source": [
        "## Defining the Question "
      ]
    },
    {
      "cell_type": "markdown",
      "metadata": {
        "id": "e2j83AcFJ4Dr"
      },
      "source": [
        "Determine the total number of bluecars taken from stations in Paris between Monday-Friday"
      ]
    },
    {
      "cell_type": "markdown",
      "metadata": {
        "id": "3c07dV7dH2F9"
      },
      "source": [
        "### Hypothesis"
      ]
    },
    {
      "cell_type": "markdown",
      "metadata": {
        "id": "9__0nVZbIkp3"
      },
      "source": [
        "\n",
        "**Null Hypothesis**: There is no difference in the total number of bluecars taken from stations and the blue cars returned between Monday and Friday.(**claim**)\n",
        "\n",
        "**Alternate Hypothesis:** There is a difference in the total number of bluecars taken and the blue cars returned between Monday and Friday."
      ]
    },
    {
      "cell_type": "markdown",
      "metadata": {
        "id": "Ov3FgpTwINRD"
      },
      "source": [
        "### Context"
      ]
    },
    {
      "cell_type": "markdown",
      "metadata": {
        "id": "OVBndf72Il60"
      },
      "source": [
        "In recent times, electric car sharing services have become popular. Knowledge of the use of car sharing services can enable companies plan.\n",
        "This study seeks to determine whether the total number of bluecars shared is constant or whether it differs during the weekdays."
      ]
    },
    {
      "cell_type": "markdown",
      "metadata": {
        "id": "xXgZOOzCIERR"
      },
      "source": [
        "### Metrics for Success"
      ]
    },
    {
      "cell_type": "markdown",
      "metadata": {
        "id": "pLYM2q-5InNP"
      },
      "source": [
        "*   Get a sample(s) of the data \n",
        "*   Determine the p-value\n",
        "*   Reject or fail to reject the null hypothesis\n",
        "\n",
        "\n",
        "\n",
        "  "
      ]
    },
    {
      "cell_type": "markdown",
      "metadata": {
        "id": "Ci8LsfwWIRMs"
      },
      "source": [
        "### Experimental Design"
      ]
    },
    {
      "cell_type": "markdown",
      "metadata": {
        "id": "FmI1L61uIon_"
      },
      "source": [
        "\n",
        "*   Defining the research question\n",
        "\n",
        "*   Finding and dealing with outliers, anomalies, and missing data within the dataset.\n",
        "\n",
        "*   Plot appropriate univariate and bivariate summaries recording our observations.\n",
        "\n",
        "*   Implement the solution by performing hypothesis testing.\n",
        "*  Challenge your solution by providing insights on how you can make improvements.\n",
        "\n",
        "\n",
        "\n"
      ]
    },
    {
      "cell_type": "markdown",
      "metadata": {
        "id": "t6KCM-7NIXkJ"
      },
      "source": [
        "### Appropriateness of Data Provided"
      ]
    },
    {
      "cell_type": "markdown",
      "metadata": {
        "id": "nqIhUoNCIprT"
      },
      "source": [
        "*  The data was sourced from an open datasource. The provided dataset is a daily aggregation, by date and postal code, of the number of events on the Autolib network (car-sharing and recharging). The dataset used was ranging from january to july of 2018 and is relevant for this analysis.\n",
        "The data provided contains variables such as dayofweek and blue cars taken that is relevant to the question and hypothesis.\n",
        "\n"
      ]
    },
    {
      "cell_type": "markdown",
      "metadata": {
        "id": "V4qEIElE9oF0"
      },
      "source": [
        "## Importing libraries to be used"
      ]
    },
    {
      "cell_type": "code",
      "metadata": {
        "id": "CjmJL_zI1B_n"
      },
      "source": [
        "\n",
        "import pandas as pd\n",
        "import numpy as np\n",
        "import matplotlib.pyplot as plt\n",
        "import seaborn as sns\n",
        "sns.set()\n",
        "import pandas_profiling as pp"
      ],
      "execution_count": null,
      "outputs": []
    },
    {
      "cell_type": "markdown",
      "metadata": {
        "id": "MWYMCfcJ1Oiq"
      },
      "source": [
        "## Loading and previewing the dataset"
      ]
    },
    {
      "cell_type": "code",
      "metadata": {
        "id": "3qyQkuCI1MeH",
        "colab": {
          "base_uri": "https://localhost:8080/",
          "height": 238
        },
        "outputId": "d5b37b8f-2cf9-4684-d8e2-3f97112363d5"
      },
      "source": [
        "# loading the dataset and previewing the first 5 observations \n",
        "url = 'http://bit.ly/DSCoreAutolibDataset'\n",
        "\n",
        "autolib = pd.read_csv(url)\n",
        "autolib.head()"
      ],
      "execution_count": null,
      "outputs": [
        {
          "output_type": "execute_result",
          "data": {
            "text/html": [
              "<div>\n",
              "<style scoped>\n",
              "    .dataframe tbody tr th:only-of-type {\n",
              "        vertical-align: middle;\n",
              "    }\n",
              "\n",
              "    .dataframe tbody tr th {\n",
              "        vertical-align: top;\n",
              "    }\n",
              "\n",
              "    .dataframe thead th {\n",
              "        text-align: right;\n",
              "    }\n",
              "</style>\n",
              "<table border=\"1\" class=\"dataframe\">\n",
              "  <thead>\n",
              "    <tr style=\"text-align: right;\">\n",
              "      <th></th>\n",
              "      <th>Postal code</th>\n",
              "      <th>date</th>\n",
              "      <th>n_daily_data_points</th>\n",
              "      <th>dayOfWeek</th>\n",
              "      <th>day_type</th>\n",
              "      <th>BlueCars_taken_sum</th>\n",
              "      <th>BlueCars_returned_sum</th>\n",
              "      <th>Utilib_taken_sum</th>\n",
              "      <th>Utilib_returned_sum</th>\n",
              "      <th>Utilib_14_taken_sum</th>\n",
              "      <th>Utilib_14_returned_sum</th>\n",
              "      <th>Slots_freed_sum</th>\n",
              "      <th>Slots_taken_sum</th>\n",
              "    </tr>\n",
              "  </thead>\n",
              "  <tbody>\n",
              "    <tr>\n",
              "      <th>0</th>\n",
              "      <td>75001</td>\n",
              "      <td>1/1/2018</td>\n",
              "      <td>1440</td>\n",
              "      <td>0</td>\n",
              "      <td>weekday</td>\n",
              "      <td>110</td>\n",
              "      <td>103</td>\n",
              "      <td>3</td>\n",
              "      <td>2</td>\n",
              "      <td>10</td>\n",
              "      <td>9</td>\n",
              "      <td>22</td>\n",
              "      <td>20</td>\n",
              "    </tr>\n",
              "    <tr>\n",
              "      <th>1</th>\n",
              "      <td>75001</td>\n",
              "      <td>1/2/2018</td>\n",
              "      <td>1438</td>\n",
              "      <td>1</td>\n",
              "      <td>weekday</td>\n",
              "      <td>98</td>\n",
              "      <td>94</td>\n",
              "      <td>1</td>\n",
              "      <td>1</td>\n",
              "      <td>8</td>\n",
              "      <td>8</td>\n",
              "      <td>23</td>\n",
              "      <td>22</td>\n",
              "    </tr>\n",
              "    <tr>\n",
              "      <th>2</th>\n",
              "      <td>75001</td>\n",
              "      <td>1/3/2018</td>\n",
              "      <td>1439</td>\n",
              "      <td>2</td>\n",
              "      <td>weekday</td>\n",
              "      <td>138</td>\n",
              "      <td>139</td>\n",
              "      <td>0</td>\n",
              "      <td>0</td>\n",
              "      <td>2</td>\n",
              "      <td>2</td>\n",
              "      <td>27</td>\n",
              "      <td>27</td>\n",
              "    </tr>\n",
              "    <tr>\n",
              "      <th>3</th>\n",
              "      <td>75001</td>\n",
              "      <td>1/4/2018</td>\n",
              "      <td>1320</td>\n",
              "      <td>3</td>\n",
              "      <td>weekday</td>\n",
              "      <td>104</td>\n",
              "      <td>104</td>\n",
              "      <td>2</td>\n",
              "      <td>2</td>\n",
              "      <td>9</td>\n",
              "      <td>8</td>\n",
              "      <td>25</td>\n",
              "      <td>21</td>\n",
              "    </tr>\n",
              "    <tr>\n",
              "      <th>4</th>\n",
              "      <td>75001</td>\n",
              "      <td>1/5/2018</td>\n",
              "      <td>1440</td>\n",
              "      <td>4</td>\n",
              "      <td>weekday</td>\n",
              "      <td>114</td>\n",
              "      <td>117</td>\n",
              "      <td>3</td>\n",
              "      <td>3</td>\n",
              "      <td>6</td>\n",
              "      <td>6</td>\n",
              "      <td>18</td>\n",
              "      <td>20</td>\n",
              "    </tr>\n",
              "  </tbody>\n",
              "</table>\n",
              "</div>"
            ],
            "text/plain": [
              "   Postal code      date  ...  Slots_freed_sum  Slots_taken_sum\n",
              "0        75001  1/1/2018  ...               22               20\n",
              "1        75001  1/2/2018  ...               23               22\n",
              "2        75001  1/3/2018  ...               27               27\n",
              "3        75001  1/4/2018  ...               25               21\n",
              "4        75001  1/5/2018  ...               18               20\n",
              "\n",
              "[5 rows x 13 columns]"
            ]
          },
          "metadata": {
            "tags": []
          },
          "execution_count": 127
        }
      ]
    },
    {
      "cell_type": "code",
      "metadata": {
        "id": "fWwz9Vz6tqGU",
        "colab": {
          "base_uri": "https://localhost:8080/"
        },
        "outputId": "59dece7a-b569-40fe-8a28-bfc44c60d4c4"
      },
      "source": [
        "# kurtosis of bluecars_returned_sum, bluecars_taken_sum, \n",
        "# slots_freed_sum & slots_taken_sum columns\n",
        "\n",
        "for column in col:\n",
        "  print((column, autob[col].kurt()))\n",
        "  \n",
        "# distribution of the sum of bluecars taken and sum of slots taken \n",
        "# has positive kurtosis indicating the presence of outliers\n",
        "# distribution can be described as heavy-tailed"
      ],
      "execution_count": null,
      "outputs": [
        {
          "output_type": "stream",
          "text": [
            "('bluecars_returned_sum', bluecars_returned_sum    5.542863\n",
            "bluecars_taken_sum       5.553808\n",
            "slots_freed_sum          6.007230\n",
            "slots_taken_sum          6.001265\n",
            "dtype: float64)\n",
            "('bluecars_taken_sum', bluecars_returned_sum    5.542863\n",
            "bluecars_taken_sum       5.553808\n",
            "slots_freed_sum          6.007230\n",
            "slots_taken_sum          6.001265\n",
            "dtype: float64)\n",
            "('slots_freed_sum', bluecars_returned_sum    5.542863\n",
            "bluecars_taken_sum       5.553808\n",
            "slots_freed_sum          6.007230\n",
            "slots_taken_sum          6.001265\n",
            "dtype: float64)\n",
            "('slots_taken_sum', bluecars_returned_sum    5.542863\n",
            "bluecars_taken_sum       5.553808\n",
            "slots_freed_sum          6.007230\n",
            "slots_taken_sum          6.001265\n",
            "dtype: float64)\n"
          ],
          "name": "stdout"
        }
      ]
    },
    {
      "cell_type": "code",
      "metadata": {
        "id": "I5RRLNRB7wHi",
        "colab": {
          "base_uri": "https://localhost:8080/"
        },
        "outputId": "d65e96b0-b564-4652-f561-4000b1298e8e"
      },
      "source": [
        "# reading the columns of the dataframe\n",
        "autolib.columns"
      ],
      "execution_count": null,
      "outputs": [
        {
          "output_type": "execute_result",
          "data": {
            "text/plain": [
              "Index(['Postal code', 'date', 'n_daily_data_points', 'dayOfWeek', 'day_type',\n",
              "       'BlueCars_taken_sum', 'BlueCars_returned_sum', 'Utilib_taken_sum',\n",
              "       'Utilib_returned_sum', 'Utilib_14_taken_sum', 'Utilib_14_returned_sum',\n",
              "       'Slots_freed_sum', 'Slots_taken_sum'],\n",
              "      dtype='object')"
            ]
          },
          "metadata": {
            "tags": []
          },
          "execution_count": 129
        }
      ]
    },
    {
      "cell_type": "code",
      "metadata": {
        "id": "J9d8kLEtMkgf",
        "colab": {
          "base_uri": "https://localhost:8080/"
        },
        "outputId": "88434dd2-d006-400f-d8e6-9633a06f6357"
      },
      "source": [
        "len(autolib.columns)"
      ],
      "execution_count": null,
      "outputs": [
        {
          "output_type": "execute_result",
          "data": {
            "text/plain": [
              "13"
            ]
          },
          "metadata": {
            "tags": []
          },
          "execution_count": 130
        }
      ]
    },
    {
      "cell_type": "code",
      "metadata": {
        "id": "3TzlShc54ViG",
        "colab": {
          "base_uri": "https://localhost:8080/",
          "height": 447
        },
        "outputId": "be6bb2f0-9658-486c-b405-133e40fa83fb"
      },
      "source": [
        "# loading the dictionary and reading the description of columns in the dataset\n",
        "desclink = 'http://bit.ly/DSCoreAutolibDatasetGlossary'\n",
        "\n",
        "dlink = pd.read_excel(desclink)\n",
        "dlink\n"
      ],
      "execution_count": null,
      "outputs": [
        {
          "output_type": "execute_result",
          "data": {
            "text/html": [
              "<div>\n",
              "<style scoped>\n",
              "    .dataframe tbody tr th:only-of-type {\n",
              "        vertical-align: middle;\n",
              "    }\n",
              "\n",
              "    .dataframe tbody tr th {\n",
              "        vertical-align: top;\n",
              "    }\n",
              "\n",
              "    .dataframe thead th {\n",
              "        text-align: right;\n",
              "    }\n",
              "</style>\n",
              "<table border=\"1\" class=\"dataframe\">\n",
              "  <thead>\n",
              "    <tr style=\"text-align: right;\">\n",
              "      <th></th>\n",
              "      <th>Column name</th>\n",
              "      <th>explanation</th>\n",
              "    </tr>\n",
              "  </thead>\n",
              "  <tbody>\n",
              "    <tr>\n",
              "      <th>0</th>\n",
              "      <td>Postal code</td>\n",
              "      <td>postal code of the area (in Paris)</td>\n",
              "    </tr>\n",
              "    <tr>\n",
              "      <th>1</th>\n",
              "      <td>date</td>\n",
              "      <td>date of the row aggregation</td>\n",
              "    </tr>\n",
              "    <tr>\n",
              "      <th>2</th>\n",
              "      <td>n_daily_data_points</td>\n",
              "      <td>number of daily data poinst that were availabl...</td>\n",
              "    </tr>\n",
              "    <tr>\n",
              "      <th>3</th>\n",
              "      <td>dayOfWeek</td>\n",
              "      <td>identifier of weekday (0: Monday -&gt; 6: Sunday)</td>\n",
              "    </tr>\n",
              "    <tr>\n",
              "      <th>4</th>\n",
              "      <td>day_type</td>\n",
              "      <td>weekday or weekend</td>\n",
              "    </tr>\n",
              "    <tr>\n",
              "      <th>5</th>\n",
              "      <td>BlueCars_taken_sum</td>\n",
              "      <td>Number of bluecars taken that date in that area</td>\n",
              "    </tr>\n",
              "    <tr>\n",
              "      <th>6</th>\n",
              "      <td>BlueCars_returned_sum</td>\n",
              "      <td>Number of bluecars returned that date in that ...</td>\n",
              "    </tr>\n",
              "    <tr>\n",
              "      <th>7</th>\n",
              "      <td>Utilib_taken_sum</td>\n",
              "      <td>Number of Utilib taken that date in that area</td>\n",
              "    </tr>\n",
              "    <tr>\n",
              "      <th>8</th>\n",
              "      <td>Utilib_returned_sum</td>\n",
              "      <td>Number of Utilib returned that date in that area</td>\n",
              "    </tr>\n",
              "    <tr>\n",
              "      <th>9</th>\n",
              "      <td>Utilib_14_taken_sum</td>\n",
              "      <td>Number of Utilib 1.4 taken that date in that area</td>\n",
              "    </tr>\n",
              "    <tr>\n",
              "      <th>10</th>\n",
              "      <td>Utilib_14_returned_sum</td>\n",
              "      <td>Number of Utilib 1.4 returned that date in tha...</td>\n",
              "    </tr>\n",
              "    <tr>\n",
              "      <th>11</th>\n",
              "      <td>Slots_freed_sum</td>\n",
              "      <td>Number of recharging slots released that date ...</td>\n",
              "    </tr>\n",
              "    <tr>\n",
              "      <th>12</th>\n",
              "      <td>Slots_taken_sum</td>\n",
              "      <td>Number of rechargign slots taken that date in ...</td>\n",
              "    </tr>\n",
              "  </tbody>\n",
              "</table>\n",
              "</div>"
            ],
            "text/plain": [
              "               Column name                                        explanation\n",
              "0              Postal code                 postal code of the area (in Paris)\n",
              "1                     date                        date of the row aggregation\n",
              "2      n_daily_data_points  number of daily data poinst that were availabl...\n",
              "3                dayOfWeek     identifier of weekday (0: Monday -> 6: Sunday)\n",
              "4                 day_type                                 weekday or weekend\n",
              "5       BlueCars_taken_sum    Number of bluecars taken that date in that area\n",
              "6    BlueCars_returned_sum  Number of bluecars returned that date in that ...\n",
              "7         Utilib_taken_sum      Number of Utilib taken that date in that area\n",
              "8      Utilib_returned_sum   Number of Utilib returned that date in that area\n",
              "9      Utilib_14_taken_sum  Number of Utilib 1.4 taken that date in that area\n",
              "10  Utilib_14_returned_sum  Number of Utilib 1.4 returned that date in tha...\n",
              "11         Slots_freed_sum  Number of recharging slots released that date ...\n",
              "12         Slots_taken_sum  Number of rechargign slots taken that date in ..."
            ]
          },
          "metadata": {
            "tags": []
          },
          "execution_count": 131
        }
      ]
    },
    {
      "cell_type": "code",
      "metadata": {
        "id": "oGD45Y6C5hP4",
        "colab": {
          "base_uri": "https://localhost:8080/"
        },
        "outputId": "e3880eac-2b3a-418e-8766-a6f6125175c6"
      },
      "source": [
        "# checking the number of rows and columns in the dataframe\n",
        "print(autolib.shape[0]) \n",
        "print(autolib.shape[1])\n",
        "\n",
        "# checking the no. of total observations\n",
        "print(autolib.size)\n",
        "\n",
        "#there are 16,085 rows and 13 columns\n",
        "# dataframe has a total of 209,105 observations\n"
      ],
      "execution_count": null,
      "outputs": [
        {
          "output_type": "stream",
          "text": [
            "16085\n",
            "13\n",
            "209105\n"
          ],
          "name": "stdout"
        }
      ]
    },
    {
      "cell_type": "code",
      "metadata": {
        "id": "dylWaIqu7FCs",
        "colab": {
          "base_uri": "https://localhost:8080/"
        },
        "outputId": "a6fab826-461c-44af-d9a7-1d63152a229a"
      },
      "source": [
        "# checking the datatype of the columns and no. of non-null columns\n",
        "autolib.info()"
      ],
      "execution_count": null,
      "outputs": [
        {
          "output_type": "stream",
          "text": [
            "<class 'pandas.core.frame.DataFrame'>\n",
            "RangeIndex: 16085 entries, 0 to 16084\n",
            "Data columns (total 13 columns):\n",
            " #   Column                  Non-Null Count  Dtype \n",
            "---  ------                  --------------  ----- \n",
            " 0   Postal code             16085 non-null  int64 \n",
            " 1   date                    16085 non-null  object\n",
            " 2   n_daily_data_points     16085 non-null  int64 \n",
            " 3   dayOfWeek               16085 non-null  int64 \n",
            " 4   day_type                16085 non-null  object\n",
            " 5   BlueCars_taken_sum      16085 non-null  int64 \n",
            " 6   BlueCars_returned_sum   16085 non-null  int64 \n",
            " 7   Utilib_taken_sum        16085 non-null  int64 \n",
            " 8   Utilib_returned_sum     16085 non-null  int64 \n",
            " 9   Utilib_14_taken_sum     16085 non-null  int64 \n",
            " 10  Utilib_14_returned_sum  16085 non-null  int64 \n",
            " 11  Slots_freed_sum         16085 non-null  int64 \n",
            " 12  Slots_taken_sum         16085 non-null  int64 \n",
            "dtypes: int64(11), object(2)\n",
            "memory usage: 1.6+ MB\n"
          ],
          "name": "stdout"
        }
      ]
    },
    {
      "cell_type": "markdown",
      "metadata": {
        "id": "nFKgT68E9IzI"
      },
      "source": [
        "## Data Cleaning"
      ]
    },
    {
      "cell_type": "code",
      "metadata": {
        "id": "as2V49Br9OQm"
      },
      "source": [
        "# creating a copy of the dataframe to work on\n",
        "autolib = autolib.copy()"
      ],
      "execution_count": null,
      "outputs": []
    },
    {
      "cell_type": "code",
      "metadata": {
        "id": "MXFfM5MN95va",
        "colab": {
          "base_uri": "https://localhost:8080/"
        },
        "outputId": "52aa00a9-546b-43c4-9297-ae99793a3178"
      },
      "source": [
        "# replacing spaces with underscores and converting column names to lowercase\n",
        "autolib.columns = autolib.columns.str.replace(' ', '_').str.lower()\n",
        "autoel.columns"
      ],
      "execution_count": null,
      "outputs": [
        {
          "output_type": "execute_result",
          "data": {
            "text/plain": [
              "Index(['postal_code', 'date', 'n_daily_data_points', 'dayofweek', 'day_type',\n",
              "       'bluecars_taken_sum', 'bluecars_returned_sum', 'utilib_taken_sum',\n",
              "       'utilib_returned_sum', 'utilib_14_taken_sum', 'utilib_14_returned_sum',\n",
              "       'slots_freed_sum', 'slots_taken_sum'],\n",
              "      dtype='object')"
            ]
          },
          "metadata": {
            "tags": []
          },
          "execution_count": 135
        }
      ]
    },
    {
      "cell_type": "code",
      "metadata": {
        "id": "32cFc5Zg-p8-",
        "colab": {
          "base_uri": "https://localhost:8080/"
        },
        "outputId": "dd884fa2-8a16-47ff-dd06-24ea69c68062"
      },
      "source": [
        "# checking for sum of duplicate values\n",
        "autolib.duplicated().sum()\n",
        "\n",
        "# our dataset has no duplicates"
      ],
      "execution_count": null,
      "outputs": [
        {
          "output_type": "execute_result",
          "data": {
            "text/plain": [
              "0"
            ]
          },
          "metadata": {
            "tags": []
          },
          "execution_count": 136
        }
      ]
    },
    {
      "cell_type": "code",
      "metadata": {
        "id": "yVg68Tki_lTJ",
        "colab": {
          "base_uri": "https://localhost:8080/"
        },
        "outputId": "2cdbe522-9989-4bde-b90d-9b40537f2c9d"
      },
      "source": [
        "# checking for the sum of missing values in each column\n",
        "\n",
        "autolib.isnull().sum()\n",
        "\n",
        "# our data has no missing values "
      ],
      "execution_count": null,
      "outputs": [
        {
          "output_type": "execute_result",
          "data": {
            "text/plain": [
              "postal_code               0\n",
              "date                      0\n",
              "n_daily_data_points       0\n",
              "dayofweek                 0\n",
              "day_type                  0\n",
              "bluecars_taken_sum        0\n",
              "bluecars_returned_sum     0\n",
              "utilib_taken_sum          0\n",
              "utilib_returned_sum       0\n",
              "utilib_14_taken_sum       0\n",
              "utilib_14_returned_sum    0\n",
              "slots_freed_sum           0\n",
              "slots_taken_sum           0\n",
              "dtype: int64"
            ]
          },
          "metadata": {
            "tags": []
          },
          "execution_count": 137
        }
      ]
    },
    {
      "cell_type": "code",
      "metadata": {
        "id": "KzBehp7MipcF",
        "colab": {
          "base_uri": "https://localhost:8080/"
        },
        "outputId": "0a74c221-4156-43ed-d83c-33611ad64490"
      },
      "source": [
        "# checking the datatypes of the columns \n",
        "\n",
        "autolib.dtypes\n",
        "\n",
        "# all columns are numerical apart from date and daytype"
      ],
      "execution_count": null,
      "outputs": [
        {
          "output_type": "execute_result",
          "data": {
            "text/plain": [
              "postal_code                int64\n",
              "date                      object\n",
              "n_daily_data_points        int64\n",
              "dayofweek                  int64\n",
              "day_type                  object\n",
              "bluecars_taken_sum         int64\n",
              "bluecars_returned_sum      int64\n",
              "utilib_taken_sum           int64\n",
              "utilib_returned_sum        int64\n",
              "utilib_14_taken_sum        int64\n",
              "utilib_14_returned_sum     int64\n",
              "slots_freed_sum            int64\n",
              "slots_taken_sum            int64\n",
              "dtype: object"
            ]
          },
          "metadata": {
            "tags": []
          },
          "execution_count": 138
        }
      ]
    },
    {
      "cell_type": "markdown",
      "metadata": {
        "id": "BMncoQj2NMsC"
      },
      "source": [
        "date column has an inappropriate datatype"
      ]
    },
    {
      "cell_type": "code",
      "metadata": {
        "id": "2p8mOiSo__0t",
        "colab": {
          "base_uri": "https://localhost:8080/"
        },
        "outputId": "d3c4805b-c742-468f-90c4-6b5c171a0f2d"
      },
      "source": [
        "# converting date column to datetime\n",
        "autolib.date = pd.to_datetime(autolib.date)\n",
        "\n",
        "autolib.info()"
      ],
      "execution_count": null,
      "outputs": [
        {
          "output_type": "stream",
          "text": [
            "<class 'pandas.core.frame.DataFrame'>\n",
            "RangeIndex: 16085 entries, 0 to 16084\n",
            "Data columns (total 13 columns):\n",
            " #   Column                  Non-Null Count  Dtype         \n",
            "---  ------                  --------------  -----         \n",
            " 0   postal_code             16085 non-null  int64         \n",
            " 1   date                    16085 non-null  datetime64[ns]\n",
            " 2   n_daily_data_points     16085 non-null  int64         \n",
            " 3   dayofweek               16085 non-null  int64         \n",
            " 4   day_type                16085 non-null  object        \n",
            " 5   bluecars_taken_sum      16085 non-null  int64         \n",
            " 6   bluecars_returned_sum   16085 non-null  int64         \n",
            " 7   utilib_taken_sum        16085 non-null  int64         \n",
            " 8   utilib_returned_sum     16085 non-null  int64         \n",
            " 9   utilib_14_taken_sum     16085 non-null  int64         \n",
            " 10  utilib_14_returned_sum  16085 non-null  int64         \n",
            " 11  slots_freed_sum         16085 non-null  int64         \n",
            " 12  slots_taken_sum         16085 non-null  int64         \n",
            "dtypes: datetime64[ns](1), int64(11), object(1)\n",
            "memory usage: 1.6+ MB\n"
          ],
          "name": "stdout"
        }
      ]
    },
    {
      "cell_type": "code",
      "metadata": {
        "id": "Rm_Q9RljAcQ7",
        "colab": {
          "base_uri": "https://localhost:8080/",
          "height": 305
        },
        "outputId": "3754c3a7-7ac1-4301-dca9-5f8021615eb0"
      },
      "source": [
        "autolib.head()"
      ],
      "execution_count": null,
      "outputs": [
        {
          "output_type": "execute_result",
          "data": {
            "text/html": [
              "<div>\n",
              "<style scoped>\n",
              "    .dataframe tbody tr th:only-of-type {\n",
              "        vertical-align: middle;\n",
              "    }\n",
              "\n",
              "    .dataframe tbody tr th {\n",
              "        vertical-align: top;\n",
              "    }\n",
              "\n",
              "    .dataframe thead th {\n",
              "        text-align: right;\n",
              "    }\n",
              "</style>\n",
              "<table border=\"1\" class=\"dataframe\">\n",
              "  <thead>\n",
              "    <tr style=\"text-align: right;\">\n",
              "      <th></th>\n",
              "      <th>postal_code</th>\n",
              "      <th>date</th>\n",
              "      <th>n_daily_data_points</th>\n",
              "      <th>dayofweek</th>\n",
              "      <th>day_type</th>\n",
              "      <th>bluecars_taken_sum</th>\n",
              "      <th>bluecars_returned_sum</th>\n",
              "      <th>utilib_taken_sum</th>\n",
              "      <th>utilib_returned_sum</th>\n",
              "      <th>utilib_14_taken_sum</th>\n",
              "      <th>utilib_14_returned_sum</th>\n",
              "      <th>slots_freed_sum</th>\n",
              "      <th>slots_taken_sum</th>\n",
              "    </tr>\n",
              "  </thead>\n",
              "  <tbody>\n",
              "    <tr>\n",
              "      <th>0</th>\n",
              "      <td>75001</td>\n",
              "      <td>2018-01-01</td>\n",
              "      <td>1440</td>\n",
              "      <td>0</td>\n",
              "      <td>weekday</td>\n",
              "      <td>110</td>\n",
              "      <td>103</td>\n",
              "      <td>3</td>\n",
              "      <td>2</td>\n",
              "      <td>10</td>\n",
              "      <td>9</td>\n",
              "      <td>22</td>\n",
              "      <td>20</td>\n",
              "    </tr>\n",
              "    <tr>\n",
              "      <th>1</th>\n",
              "      <td>75001</td>\n",
              "      <td>2018-01-02</td>\n",
              "      <td>1438</td>\n",
              "      <td>1</td>\n",
              "      <td>weekday</td>\n",
              "      <td>98</td>\n",
              "      <td>94</td>\n",
              "      <td>1</td>\n",
              "      <td>1</td>\n",
              "      <td>8</td>\n",
              "      <td>8</td>\n",
              "      <td>23</td>\n",
              "      <td>22</td>\n",
              "    </tr>\n",
              "    <tr>\n",
              "      <th>2</th>\n",
              "      <td>75001</td>\n",
              "      <td>2018-01-03</td>\n",
              "      <td>1439</td>\n",
              "      <td>2</td>\n",
              "      <td>weekday</td>\n",
              "      <td>138</td>\n",
              "      <td>139</td>\n",
              "      <td>0</td>\n",
              "      <td>0</td>\n",
              "      <td>2</td>\n",
              "      <td>2</td>\n",
              "      <td>27</td>\n",
              "      <td>27</td>\n",
              "    </tr>\n",
              "    <tr>\n",
              "      <th>3</th>\n",
              "      <td>75001</td>\n",
              "      <td>2018-01-04</td>\n",
              "      <td>1320</td>\n",
              "      <td>3</td>\n",
              "      <td>weekday</td>\n",
              "      <td>104</td>\n",
              "      <td>104</td>\n",
              "      <td>2</td>\n",
              "      <td>2</td>\n",
              "      <td>9</td>\n",
              "      <td>8</td>\n",
              "      <td>25</td>\n",
              "      <td>21</td>\n",
              "    </tr>\n",
              "    <tr>\n",
              "      <th>4</th>\n",
              "      <td>75001</td>\n",
              "      <td>2018-01-05</td>\n",
              "      <td>1440</td>\n",
              "      <td>4</td>\n",
              "      <td>weekday</td>\n",
              "      <td>114</td>\n",
              "      <td>117</td>\n",
              "      <td>3</td>\n",
              "      <td>3</td>\n",
              "      <td>6</td>\n",
              "      <td>6</td>\n",
              "      <td>18</td>\n",
              "      <td>20</td>\n",
              "    </tr>\n",
              "  </tbody>\n",
              "</table>\n",
              "</div>"
            ],
            "text/plain": [
              "   postal_code       date  ...  slots_freed_sum  slots_taken_sum\n",
              "0        75001 2018-01-01  ...               22               20\n",
              "1        75001 2018-01-02  ...               23               22\n",
              "2        75001 2018-01-03  ...               27               27\n",
              "3        75001 2018-01-04  ...               25               21\n",
              "4        75001 2018-01-05  ...               18               20\n",
              "\n",
              "[5 rows x 13 columns]"
            ]
          },
          "metadata": {
            "tags": []
          },
          "execution_count": 140
        }
      ]
    },
    {
      "cell_type": "code",
      "metadata": {
        "id": "a_e1HvVq4Zrp",
        "colab": {
          "base_uri": "https://localhost:8080/",
          "height": 305
        },
        "outputId": "17e187ce-9ab0-4e06-adcd-2d57b919bd64"
      },
      "source": [
        "# selecting weekday columns\n",
        "\n",
        "autolib = autolib[autolib['day_type'] == 'weekday']\n",
        "# previewing the first 5 observations in the resulting dataframe\n",
        "autolib.head(5)"
      ],
      "execution_count": null,
      "outputs": [
        {
          "output_type": "execute_result",
          "data": {
            "text/html": [
              "<div>\n",
              "<style scoped>\n",
              "    .dataframe tbody tr th:only-of-type {\n",
              "        vertical-align: middle;\n",
              "    }\n",
              "\n",
              "    .dataframe tbody tr th {\n",
              "        vertical-align: top;\n",
              "    }\n",
              "\n",
              "    .dataframe thead th {\n",
              "        text-align: right;\n",
              "    }\n",
              "</style>\n",
              "<table border=\"1\" class=\"dataframe\">\n",
              "  <thead>\n",
              "    <tr style=\"text-align: right;\">\n",
              "      <th></th>\n",
              "      <th>postal_code</th>\n",
              "      <th>date</th>\n",
              "      <th>n_daily_data_points</th>\n",
              "      <th>dayofweek</th>\n",
              "      <th>day_type</th>\n",
              "      <th>bluecars_taken_sum</th>\n",
              "      <th>bluecars_returned_sum</th>\n",
              "      <th>utilib_taken_sum</th>\n",
              "      <th>utilib_returned_sum</th>\n",
              "      <th>utilib_14_taken_sum</th>\n",
              "      <th>utilib_14_returned_sum</th>\n",
              "      <th>slots_freed_sum</th>\n",
              "      <th>slots_taken_sum</th>\n",
              "    </tr>\n",
              "  </thead>\n",
              "  <tbody>\n",
              "    <tr>\n",
              "      <th>0</th>\n",
              "      <td>75001</td>\n",
              "      <td>2018-01-01</td>\n",
              "      <td>1440</td>\n",
              "      <td>0</td>\n",
              "      <td>weekday</td>\n",
              "      <td>110</td>\n",
              "      <td>103</td>\n",
              "      <td>3</td>\n",
              "      <td>2</td>\n",
              "      <td>10</td>\n",
              "      <td>9</td>\n",
              "      <td>22</td>\n",
              "      <td>20</td>\n",
              "    </tr>\n",
              "    <tr>\n",
              "      <th>1</th>\n",
              "      <td>75001</td>\n",
              "      <td>2018-01-02</td>\n",
              "      <td>1438</td>\n",
              "      <td>1</td>\n",
              "      <td>weekday</td>\n",
              "      <td>98</td>\n",
              "      <td>94</td>\n",
              "      <td>1</td>\n",
              "      <td>1</td>\n",
              "      <td>8</td>\n",
              "      <td>8</td>\n",
              "      <td>23</td>\n",
              "      <td>22</td>\n",
              "    </tr>\n",
              "    <tr>\n",
              "      <th>2</th>\n",
              "      <td>75001</td>\n",
              "      <td>2018-01-03</td>\n",
              "      <td>1439</td>\n",
              "      <td>2</td>\n",
              "      <td>weekday</td>\n",
              "      <td>138</td>\n",
              "      <td>139</td>\n",
              "      <td>0</td>\n",
              "      <td>0</td>\n",
              "      <td>2</td>\n",
              "      <td>2</td>\n",
              "      <td>27</td>\n",
              "      <td>27</td>\n",
              "    </tr>\n",
              "    <tr>\n",
              "      <th>3</th>\n",
              "      <td>75001</td>\n",
              "      <td>2018-01-04</td>\n",
              "      <td>1320</td>\n",
              "      <td>3</td>\n",
              "      <td>weekday</td>\n",
              "      <td>104</td>\n",
              "      <td>104</td>\n",
              "      <td>2</td>\n",
              "      <td>2</td>\n",
              "      <td>9</td>\n",
              "      <td>8</td>\n",
              "      <td>25</td>\n",
              "      <td>21</td>\n",
              "    </tr>\n",
              "    <tr>\n",
              "      <th>4</th>\n",
              "      <td>75001</td>\n",
              "      <td>2018-01-05</td>\n",
              "      <td>1440</td>\n",
              "      <td>4</td>\n",
              "      <td>weekday</td>\n",
              "      <td>114</td>\n",
              "      <td>117</td>\n",
              "      <td>3</td>\n",
              "      <td>3</td>\n",
              "      <td>6</td>\n",
              "      <td>6</td>\n",
              "      <td>18</td>\n",
              "      <td>20</td>\n",
              "    </tr>\n",
              "  </tbody>\n",
              "</table>\n",
              "</div>"
            ],
            "text/plain": [
              "   postal_code       date  ...  slots_freed_sum  slots_taken_sum\n",
              "0        75001 2018-01-01  ...               22               20\n",
              "1        75001 2018-01-02  ...               23               22\n",
              "2        75001 2018-01-03  ...               27               27\n",
              "3        75001 2018-01-04  ...               25               21\n",
              "4        75001 2018-01-05  ...               18               20\n",
              "\n",
              "[5 rows x 13 columns]"
            ]
          },
          "metadata": {
            "tags": []
          },
          "execution_count": 141
        }
      ]
    },
    {
      "cell_type": "code",
      "metadata": {
        "id": "GrvItN-zwei9",
        "colab": {
          "base_uri": "https://localhost:8080/",
          "height": 601
        },
        "outputId": "04a9c442-e4af-40f0-cf62-dd3050470f62"
      },
      "source": [
        "# drop day_type column because it is constant\n",
        "# drop n_daily_data_points column because it is not required\n",
        "\n",
        "#autolib = autolib.drop(['day_type', 'n_daily_data_points'], 1)\n",
        "\n",
        "autolib.columns\n",
        "autolib"
      ],
      "execution_count": null,
      "outputs": [
        {
          "output_type": "execute_result",
          "data": {
            "text/html": [
              "<div>\n",
              "<style scoped>\n",
              "    .dataframe tbody tr th:only-of-type {\n",
              "        vertical-align: middle;\n",
              "    }\n",
              "\n",
              "    .dataframe tbody tr th {\n",
              "        vertical-align: top;\n",
              "    }\n",
              "\n",
              "    .dataframe thead th {\n",
              "        text-align: right;\n",
              "    }\n",
              "</style>\n",
              "<table border=\"1\" class=\"dataframe\">\n",
              "  <thead>\n",
              "    <tr style=\"text-align: right;\">\n",
              "      <th></th>\n",
              "      <th>postal_code</th>\n",
              "      <th>date</th>\n",
              "      <th>n_daily_data_points</th>\n",
              "      <th>dayofweek</th>\n",
              "      <th>day_type</th>\n",
              "      <th>bluecars_taken_sum</th>\n",
              "      <th>bluecars_returned_sum</th>\n",
              "      <th>utilib_taken_sum</th>\n",
              "      <th>utilib_returned_sum</th>\n",
              "      <th>utilib_14_taken_sum</th>\n",
              "      <th>utilib_14_returned_sum</th>\n",
              "      <th>slots_freed_sum</th>\n",
              "      <th>slots_taken_sum</th>\n",
              "    </tr>\n",
              "  </thead>\n",
              "  <tbody>\n",
              "    <tr>\n",
              "      <th>0</th>\n",
              "      <td>75001</td>\n",
              "      <td>2018-01-01</td>\n",
              "      <td>1440</td>\n",
              "      <td>0</td>\n",
              "      <td>weekday</td>\n",
              "      <td>110</td>\n",
              "      <td>103</td>\n",
              "      <td>3</td>\n",
              "      <td>2</td>\n",
              "      <td>10</td>\n",
              "      <td>9</td>\n",
              "      <td>22</td>\n",
              "      <td>20</td>\n",
              "    </tr>\n",
              "    <tr>\n",
              "      <th>1</th>\n",
              "      <td>75001</td>\n",
              "      <td>2018-01-02</td>\n",
              "      <td>1438</td>\n",
              "      <td>1</td>\n",
              "      <td>weekday</td>\n",
              "      <td>98</td>\n",
              "      <td>94</td>\n",
              "      <td>1</td>\n",
              "      <td>1</td>\n",
              "      <td>8</td>\n",
              "      <td>8</td>\n",
              "      <td>23</td>\n",
              "      <td>22</td>\n",
              "    </tr>\n",
              "    <tr>\n",
              "      <th>2</th>\n",
              "      <td>75001</td>\n",
              "      <td>2018-01-03</td>\n",
              "      <td>1439</td>\n",
              "      <td>2</td>\n",
              "      <td>weekday</td>\n",
              "      <td>138</td>\n",
              "      <td>139</td>\n",
              "      <td>0</td>\n",
              "      <td>0</td>\n",
              "      <td>2</td>\n",
              "      <td>2</td>\n",
              "      <td>27</td>\n",
              "      <td>27</td>\n",
              "    </tr>\n",
              "    <tr>\n",
              "      <th>3</th>\n",
              "      <td>75001</td>\n",
              "      <td>2018-01-04</td>\n",
              "      <td>1320</td>\n",
              "      <td>3</td>\n",
              "      <td>weekday</td>\n",
              "      <td>104</td>\n",
              "      <td>104</td>\n",
              "      <td>2</td>\n",
              "      <td>2</td>\n",
              "      <td>9</td>\n",
              "      <td>8</td>\n",
              "      <td>25</td>\n",
              "      <td>21</td>\n",
              "    </tr>\n",
              "    <tr>\n",
              "      <th>4</th>\n",
              "      <td>75001</td>\n",
              "      <td>2018-01-05</td>\n",
              "      <td>1440</td>\n",
              "      <td>4</td>\n",
              "      <td>weekday</td>\n",
              "      <td>114</td>\n",
              "      <td>117</td>\n",
              "      <td>3</td>\n",
              "      <td>3</td>\n",
              "      <td>6</td>\n",
              "      <td>6</td>\n",
              "      <td>18</td>\n",
              "      <td>20</td>\n",
              "    </tr>\n",
              "    <tr>\n",
              "      <th>...</th>\n",
              "      <td>...</td>\n",
              "      <td>...</td>\n",
              "      <td>...</td>\n",
              "      <td>...</td>\n",
              "      <td>...</td>\n",
              "      <td>...</td>\n",
              "      <td>...</td>\n",
              "      <td>...</td>\n",
              "      <td>...</td>\n",
              "      <td>...</td>\n",
              "      <td>...</td>\n",
              "      <td>...</td>\n",
              "      <td>...</td>\n",
              "    </tr>\n",
              "    <tr>\n",
              "      <th>16078</th>\n",
              "      <td>95880</td>\n",
              "      <td>2018-06-13</td>\n",
              "      <td>1440</td>\n",
              "      <td>2</td>\n",
              "      <td>weekday</td>\n",
              "      <td>12</td>\n",
              "      <td>13</td>\n",
              "      <td>0</td>\n",
              "      <td>0</td>\n",
              "      <td>1</td>\n",
              "      <td>1</td>\n",
              "      <td>0</td>\n",
              "      <td>0</td>\n",
              "    </tr>\n",
              "    <tr>\n",
              "      <th>16079</th>\n",
              "      <td>95880</td>\n",
              "      <td>2018-06-14</td>\n",
              "      <td>1439</td>\n",
              "      <td>3</td>\n",
              "      <td>weekday</td>\n",
              "      <td>15</td>\n",
              "      <td>13</td>\n",
              "      <td>0</td>\n",
              "      <td>0</td>\n",
              "      <td>0</td>\n",
              "      <td>0</td>\n",
              "      <td>0</td>\n",
              "      <td>0</td>\n",
              "    </tr>\n",
              "    <tr>\n",
              "      <th>16080</th>\n",
              "      <td>95880</td>\n",
              "      <td>2018-06-15</td>\n",
              "      <td>1440</td>\n",
              "      <td>4</td>\n",
              "      <td>weekday</td>\n",
              "      <td>15</td>\n",
              "      <td>10</td>\n",
              "      <td>0</td>\n",
              "      <td>0</td>\n",
              "      <td>2</td>\n",
              "      <td>3</td>\n",
              "      <td>0</td>\n",
              "      <td>0</td>\n",
              "    </tr>\n",
              "    <tr>\n",
              "      <th>16083</th>\n",
              "      <td>95880</td>\n",
              "      <td>2018-06-18</td>\n",
              "      <td>1440</td>\n",
              "      <td>0</td>\n",
              "      <td>weekday</td>\n",
              "      <td>11</td>\n",
              "      <td>14</td>\n",
              "      <td>3</td>\n",
              "      <td>5</td>\n",
              "      <td>2</td>\n",
              "      <td>2</td>\n",
              "      <td>0</td>\n",
              "      <td>0</td>\n",
              "    </tr>\n",
              "    <tr>\n",
              "      <th>16084</th>\n",
              "      <td>95880</td>\n",
              "      <td>2018-06-19</td>\n",
              "      <td>1370</td>\n",
              "      <td>1</td>\n",
              "      <td>weekday</td>\n",
              "      <td>2</td>\n",
              "      <td>2</td>\n",
              "      <td>2</td>\n",
              "      <td>1</td>\n",
              "      <td>0</td>\n",
              "      <td>0</td>\n",
              "      <td>0</td>\n",
              "      <td>0</td>\n",
              "    </tr>\n",
              "  </tbody>\n",
              "</table>\n",
              "<p>11544 rows × 13 columns</p>\n",
              "</div>"
            ],
            "text/plain": [
              "       postal_code       date  ...  slots_freed_sum  slots_taken_sum\n",
              "0            75001 2018-01-01  ...               22               20\n",
              "1            75001 2018-01-02  ...               23               22\n",
              "2            75001 2018-01-03  ...               27               27\n",
              "3            75001 2018-01-04  ...               25               21\n",
              "4            75001 2018-01-05  ...               18               20\n",
              "...            ...        ...  ...              ...              ...\n",
              "16078        95880 2018-06-13  ...                0                0\n",
              "16079        95880 2018-06-14  ...                0                0\n",
              "16080        95880 2018-06-15  ...                0                0\n",
              "16083        95880 2018-06-18  ...                0                0\n",
              "16084        95880 2018-06-19  ...                0                0\n",
              "\n",
              "[11544 rows x 13 columns]"
            ]
          },
          "metadata": {
            "tags": []
          },
          "execution_count": 142
        }
      ]
    },
    {
      "cell_type": "code",
      "metadata": {
        "colab": {
          "base_uri": "https://localhost:8080/",
          "height": 314
        },
        "id": "Nlm2W-ibquM4",
        "outputId": "5823e442-a404-4439-cd3c-c2d6a240c1e2"
      },
      "source": [
        "# using pandas to get a summarized report of the dataset\n",
        "autolib.describe()"
      ],
      "execution_count": null,
      "outputs": [
        {
          "output_type": "execute_result",
          "data": {
            "text/html": [
              "<div>\n",
              "<style scoped>\n",
              "    .dataframe tbody tr th:only-of-type {\n",
              "        vertical-align: middle;\n",
              "    }\n",
              "\n",
              "    .dataframe tbody tr th {\n",
              "        vertical-align: top;\n",
              "    }\n",
              "\n",
              "    .dataframe thead th {\n",
              "        text-align: right;\n",
              "    }\n",
              "</style>\n",
              "<table border=\"1\" class=\"dataframe\">\n",
              "  <thead>\n",
              "    <tr style=\"text-align: right;\">\n",
              "      <th></th>\n",
              "      <th>postal_code</th>\n",
              "      <th>n_daily_data_points</th>\n",
              "      <th>dayofweek</th>\n",
              "      <th>bluecars_taken_sum</th>\n",
              "      <th>bluecars_returned_sum</th>\n",
              "      <th>utilib_taken_sum</th>\n",
              "      <th>utilib_returned_sum</th>\n",
              "      <th>utilib_14_taken_sum</th>\n",
              "      <th>utilib_14_returned_sum</th>\n",
              "      <th>slots_freed_sum</th>\n",
              "      <th>slots_taken_sum</th>\n",
              "    </tr>\n",
              "  </thead>\n",
              "  <tbody>\n",
              "    <tr>\n",
              "      <th>count</th>\n",
              "      <td>11544.000000</td>\n",
              "      <td>11544.000000</td>\n",
              "      <td>11544.000000</td>\n",
              "      <td>11544.000000</td>\n",
              "      <td>11544.000000</td>\n",
              "      <td>11544.000000</td>\n",
              "      <td>11544.000000</td>\n",
              "      <td>11544.000000</td>\n",
              "      <td>11544.000000</td>\n",
              "      <td>11544.000000</td>\n",
              "      <td>11544.000000</td>\n",
              "    </tr>\n",
              "    <tr>\n",
              "      <th>mean</th>\n",
              "      <td>88789.959286</td>\n",
              "      <td>1430.007277</td>\n",
              "      <td>1.973926</td>\n",
              "      <td>116.028673</td>\n",
              "      <td>115.639380</td>\n",
              "      <td>3.424983</td>\n",
              "      <td>3.417620</td>\n",
              "      <td>7.999047</td>\n",
              "      <td>7.975485</td>\n",
              "      <td>20.945166</td>\n",
              "      <td>20.921431</td>\n",
              "    </tr>\n",
              "    <tr>\n",
              "      <th>std</th>\n",
              "      <td>7647.995374</td>\n",
              "      <td>36.882140</td>\n",
              "      <td>1.417797</td>\n",
              "      <td>169.626905</td>\n",
              "      <td>168.344751</td>\n",
              "      <td>5.379950</td>\n",
              "      <td>5.349742</td>\n",
              "      <td>11.963164</td>\n",
              "      <td>11.882660</td>\n",
              "      <td>47.900208</td>\n",
              "      <td>47.848580</td>\n",
              "    </tr>\n",
              "    <tr>\n",
              "      <th>min</th>\n",
              "      <td>75001.000000</td>\n",
              "      <td>1174.000000</td>\n",
              "      <td>0.000000</td>\n",
              "      <td>0.000000</td>\n",
              "      <td>0.000000</td>\n",
              "      <td>0.000000</td>\n",
              "      <td>0.000000</td>\n",
              "      <td>0.000000</td>\n",
              "      <td>0.000000</td>\n",
              "      <td>0.000000</td>\n",
              "      <td>0.000000</td>\n",
              "    </tr>\n",
              "    <tr>\n",
              "      <th>25%</th>\n",
              "      <td>91330.000000</td>\n",
              "      <td>1439.000000</td>\n",
              "      <td>1.000000</td>\n",
              "      <td>18.000000</td>\n",
              "      <td>19.000000</td>\n",
              "      <td>0.000000</td>\n",
              "      <td>0.000000</td>\n",
              "      <td>1.000000</td>\n",
              "      <td>1.000000</td>\n",
              "      <td>0.000000</td>\n",
              "      <td>0.000000</td>\n",
              "    </tr>\n",
              "    <tr>\n",
              "      <th>50%</th>\n",
              "      <td>92340.000000</td>\n",
              "      <td>1440.000000</td>\n",
              "      <td>2.000000</td>\n",
              "      <td>42.000000</td>\n",
              "      <td>42.000000</td>\n",
              "      <td>1.000000</td>\n",
              "      <td>1.000000</td>\n",
              "      <td>3.000000</td>\n",
              "      <td>3.000000</td>\n",
              "      <td>0.000000</td>\n",
              "      <td>0.000000</td>\n",
              "    </tr>\n",
              "    <tr>\n",
              "      <th>75%</th>\n",
              "      <td>93400.000000</td>\n",
              "      <td>1440.000000</td>\n",
              "      <td>3.000000</td>\n",
              "      <td>126.000000</td>\n",
              "      <td>126.000000</td>\n",
              "      <td>4.000000</td>\n",
              "      <td>4.000000</td>\n",
              "      <td>9.000000</td>\n",
              "      <td>9.000000</td>\n",
              "      <td>4.000000</td>\n",
              "      <td>5.000000</td>\n",
              "    </tr>\n",
              "    <tr>\n",
              "      <th>max</th>\n",
              "      <td>95880.000000</td>\n",
              "      <td>1440.000000</td>\n",
              "      <td>4.000000</td>\n",
              "      <td>1093.000000</td>\n",
              "      <td>1056.000000</td>\n",
              "      <td>47.000000</td>\n",
              "      <td>49.000000</td>\n",
              "      <td>94.000000</td>\n",
              "      <td>94.000000</td>\n",
              "      <td>288.000000</td>\n",
              "      <td>294.000000</td>\n",
              "    </tr>\n",
              "  </tbody>\n",
              "</table>\n",
              "</div>"
            ],
            "text/plain": [
              "        postal_code  n_daily_data_points  ...  slots_freed_sum  slots_taken_sum\n",
              "count  11544.000000         11544.000000  ...     11544.000000     11544.000000\n",
              "mean   88789.959286          1430.007277  ...        20.945166        20.921431\n",
              "std     7647.995374            36.882140  ...        47.900208        47.848580\n",
              "min    75001.000000          1174.000000  ...         0.000000         0.000000\n",
              "25%    91330.000000          1439.000000  ...         0.000000         0.000000\n",
              "50%    92340.000000          1440.000000  ...         0.000000         0.000000\n",
              "75%    93400.000000          1440.000000  ...         4.000000         5.000000\n",
              "max    95880.000000          1440.000000  ...       288.000000       294.000000\n",
              "\n",
              "[8 rows x 11 columns]"
            ]
          },
          "metadata": {
            "tags": []
          },
          "execution_count": 143
        }
      ]
    },
    {
      "cell_type": "markdown",
      "metadata": {
        "id": "Uf0r1B9vzhsX"
      },
      "source": [
        "## Exploratory Data Analysis"
      ]
    },
    {
      "cell_type": "code",
      "metadata": {
        "id": "ftvj4qFtpsiw",
        "colab": {
          "base_uri": "https://localhost:8080/",
          "height": 232
        },
        "outputId": "011a2fc0-054f-4d7f-fe54-2da92844768e"
      },
      "source": [
        "# checking for the total sum of bluecars taken everyday\n",
        "\n",
        "autolib.groupby('dayofweek')[['bluecars_taken_sum']].sum().sort_values('bluecars_taken_sum', ascending=False)\n",
        "\n",
        "#Where 0 is monday,1 is tuesday ,2 is wednesday,3 is thursday,4 is friday\n",
        "#friday has the highest number of bluecars taken"
      ],
      "execution_count": null,
      "outputs": [
        {
          "output_type": "execute_result",
          "data": {
            "text/html": [
              "<div>\n",
              "<style scoped>\n",
              "    .dataframe tbody tr th:only-of-type {\n",
              "        vertical-align: middle;\n",
              "    }\n",
              "\n",
              "    .dataframe tbody tr th {\n",
              "        vertical-align: top;\n",
              "    }\n",
              "\n",
              "    .dataframe thead th {\n",
              "        text-align: right;\n",
              "    }\n",
              "</style>\n",
              "<table border=\"1\" class=\"dataframe\">\n",
              "  <thead>\n",
              "    <tr style=\"text-align: right;\">\n",
              "      <th></th>\n",
              "      <th>bluecars_taken_sum</th>\n",
              "    </tr>\n",
              "    <tr>\n",
              "      <th>dayofweek</th>\n",
              "      <th></th>\n",
              "    </tr>\n",
              "  </thead>\n",
              "  <tbody>\n",
              "    <tr>\n",
              "      <th>4</th>\n",
              "      <td>288546</td>\n",
              "    </tr>\n",
              "    <tr>\n",
              "      <th>0</th>\n",
              "      <td>263893</td>\n",
              "    </tr>\n",
              "    <tr>\n",
              "      <th>3</th>\n",
              "      <td>263207</td>\n",
              "    </tr>\n",
              "    <tr>\n",
              "      <th>1</th>\n",
              "      <td>261940</td>\n",
              "    </tr>\n",
              "    <tr>\n",
              "      <th>2</th>\n",
              "      <td>261849</td>\n",
              "    </tr>\n",
              "  </tbody>\n",
              "</table>\n",
              "</div>"
            ],
            "text/plain": [
              "           bluecars_taken_sum\n",
              "dayofweek                    \n",
              "4                      288546\n",
              "0                      263893\n",
              "3                      263207\n",
              "1                      261940\n",
              "2                      261849"
            ]
          },
          "metadata": {
            "tags": []
          },
          "execution_count": 144
        }
      ]
    },
    {
      "cell_type": "code",
      "metadata": {
        "id": "kdsbx-Ht0s2Q",
        "colab": {
          "base_uri": "https://localhost:8080/",
          "height": 232
        },
        "outputId": "854a0be3-8731-4f43-8fc7-65f08ef9b5df"
      },
      "source": [
        "autolib.groupby('dayofweek')[['bluecars_returned_sum']].sum().sort_values('bluecars_returned_sum', ascending=False)\n",
        "\n",
        "# most bluecars are returned on Friday\n",
        "# Where 0 is monday,1 is tuesday ,2 is wednesday,3 is thursday,4 is friday"
      ],
      "execution_count": null,
      "outputs": [
        {
          "output_type": "execute_result",
          "data": {
            "text/html": [
              "<div>\n",
              "<style scoped>\n",
              "    .dataframe tbody tr th:only-of-type {\n",
              "        vertical-align: middle;\n",
              "    }\n",
              "\n",
              "    .dataframe tbody tr th {\n",
              "        vertical-align: top;\n",
              "    }\n",
              "\n",
              "    .dataframe thead th {\n",
              "        text-align: right;\n",
              "    }\n",
              "</style>\n",
              "<table border=\"1\" class=\"dataframe\">\n",
              "  <thead>\n",
              "    <tr style=\"text-align: right;\">\n",
              "      <th></th>\n",
              "      <th>bluecars_returned_sum</th>\n",
              "    </tr>\n",
              "    <tr>\n",
              "      <th>dayofweek</th>\n",
              "      <th></th>\n",
              "    </tr>\n",
              "  </thead>\n",
              "  <tbody>\n",
              "    <tr>\n",
              "      <th>4</th>\n",
              "      <td>286029</td>\n",
              "    </tr>\n",
              "    <tr>\n",
              "      <th>0</th>\n",
              "      <td>264808</td>\n",
              "    </tr>\n",
              "    <tr>\n",
              "      <th>3</th>\n",
              "      <td>262961</td>\n",
              "    </tr>\n",
              "    <tr>\n",
              "      <th>2</th>\n",
              "      <td>260673</td>\n",
              "    </tr>\n",
              "    <tr>\n",
              "      <th>1</th>\n",
              "      <td>260470</td>\n",
              "    </tr>\n",
              "  </tbody>\n",
              "</table>\n",
              "</div>"
            ],
            "text/plain": [
              "           bluecars_returned_sum\n",
              "dayofweek                       \n",
              "4                         286029\n",
              "0                         264808\n",
              "3                         262961\n",
              "2                         260673\n",
              "1                         260470"
            ]
          },
          "metadata": {
            "tags": []
          },
          "execution_count": 145
        }
      ]
    },
    {
      "cell_type": "markdown",
      "metadata": {
        "id": "4YeOvyaEtnDq"
      },
      "source": [
        "### Univariate Analysis"
      ]
    },
    {
      "cell_type": "markdown",
      "metadata": {
        "id": "gR-esfUnt1Q8"
      },
      "source": [
        "#### Frequency Tables"
      ]
    },
    {
      "cell_type": "code",
      "metadata": {
        "id": "elUGyAaetvEB",
        "colab": {
          "base_uri": "https://localhost:8080/"
        },
        "outputId": "30c084ff-8c7b-4c53-860d-59e112ceb2da"
      },
      "source": [
        "# frequency table of bluecars_returned_sum column\n",
        "\n",
        "autolib['dayofweek'].value_counts()"
      ],
      "execution_count": null,
      "outputs": [
        {
          "output_type": "execute_result",
          "data": {
            "text/plain": [
              "0    2374\n",
              "1    2363\n",
              "4    2271\n",
              "3    2268\n",
              "2    2268\n",
              "Name: dayofweek, dtype: int64"
            ]
          },
          "metadata": {
            "tags": []
          },
          "execution_count": 146
        }
      ]
    },
    {
      "cell_type": "markdown",
      "metadata": {
        "id": "4L_AbfR15LiL"
      },
      "source": [
        "#### Measures of Central Tendency"
      ]
    },
    {
      "cell_type": "code",
      "metadata": {
        "id": "S16GgFaRhRXb",
        "colab": {
          "base_uri": "https://localhost:8080/",
          "height": 314
        },
        "outputId": "16a12e8a-d176-4816-e736-b434b7927eb4"
      },
      "source": [
        "# descriptive statistics of the data\n",
        "\n",
        "autolib.describe()"
      ],
      "execution_count": null,
      "outputs": [
        {
          "output_type": "execute_result",
          "data": {
            "text/html": [
              "<div>\n",
              "<style scoped>\n",
              "    .dataframe tbody tr th:only-of-type {\n",
              "        vertical-align: middle;\n",
              "    }\n",
              "\n",
              "    .dataframe tbody tr th {\n",
              "        vertical-align: top;\n",
              "    }\n",
              "\n",
              "    .dataframe thead th {\n",
              "        text-align: right;\n",
              "    }\n",
              "</style>\n",
              "<table border=\"1\" class=\"dataframe\">\n",
              "  <thead>\n",
              "    <tr style=\"text-align: right;\">\n",
              "      <th></th>\n",
              "      <th>postal_code</th>\n",
              "      <th>n_daily_data_points</th>\n",
              "      <th>dayofweek</th>\n",
              "      <th>bluecars_taken_sum</th>\n",
              "      <th>bluecars_returned_sum</th>\n",
              "      <th>utilib_taken_sum</th>\n",
              "      <th>utilib_returned_sum</th>\n",
              "      <th>utilib_14_taken_sum</th>\n",
              "      <th>utilib_14_returned_sum</th>\n",
              "      <th>slots_freed_sum</th>\n",
              "      <th>slots_taken_sum</th>\n",
              "    </tr>\n",
              "  </thead>\n",
              "  <tbody>\n",
              "    <tr>\n",
              "      <th>count</th>\n",
              "      <td>11544.000000</td>\n",
              "      <td>11544.000000</td>\n",
              "      <td>11544.000000</td>\n",
              "      <td>11544.000000</td>\n",
              "      <td>11544.000000</td>\n",
              "      <td>11544.000000</td>\n",
              "      <td>11544.000000</td>\n",
              "      <td>11544.000000</td>\n",
              "      <td>11544.000000</td>\n",
              "      <td>11544.000000</td>\n",
              "      <td>11544.000000</td>\n",
              "    </tr>\n",
              "    <tr>\n",
              "      <th>mean</th>\n",
              "      <td>88789.959286</td>\n",
              "      <td>1430.007277</td>\n",
              "      <td>1.973926</td>\n",
              "      <td>116.028673</td>\n",
              "      <td>115.639380</td>\n",
              "      <td>3.424983</td>\n",
              "      <td>3.417620</td>\n",
              "      <td>7.999047</td>\n",
              "      <td>7.975485</td>\n",
              "      <td>20.945166</td>\n",
              "      <td>20.921431</td>\n",
              "    </tr>\n",
              "    <tr>\n",
              "      <th>std</th>\n",
              "      <td>7647.995374</td>\n",
              "      <td>36.882140</td>\n",
              "      <td>1.417797</td>\n",
              "      <td>169.626905</td>\n",
              "      <td>168.344751</td>\n",
              "      <td>5.379950</td>\n",
              "      <td>5.349742</td>\n",
              "      <td>11.963164</td>\n",
              "      <td>11.882660</td>\n",
              "      <td>47.900208</td>\n",
              "      <td>47.848580</td>\n",
              "    </tr>\n",
              "    <tr>\n",
              "      <th>min</th>\n",
              "      <td>75001.000000</td>\n",
              "      <td>1174.000000</td>\n",
              "      <td>0.000000</td>\n",
              "      <td>0.000000</td>\n",
              "      <td>0.000000</td>\n",
              "      <td>0.000000</td>\n",
              "      <td>0.000000</td>\n",
              "      <td>0.000000</td>\n",
              "      <td>0.000000</td>\n",
              "      <td>0.000000</td>\n",
              "      <td>0.000000</td>\n",
              "    </tr>\n",
              "    <tr>\n",
              "      <th>25%</th>\n",
              "      <td>91330.000000</td>\n",
              "      <td>1439.000000</td>\n",
              "      <td>1.000000</td>\n",
              "      <td>18.000000</td>\n",
              "      <td>19.000000</td>\n",
              "      <td>0.000000</td>\n",
              "      <td>0.000000</td>\n",
              "      <td>1.000000</td>\n",
              "      <td>1.000000</td>\n",
              "      <td>0.000000</td>\n",
              "      <td>0.000000</td>\n",
              "    </tr>\n",
              "    <tr>\n",
              "      <th>50%</th>\n",
              "      <td>92340.000000</td>\n",
              "      <td>1440.000000</td>\n",
              "      <td>2.000000</td>\n",
              "      <td>42.000000</td>\n",
              "      <td>42.000000</td>\n",
              "      <td>1.000000</td>\n",
              "      <td>1.000000</td>\n",
              "      <td>3.000000</td>\n",
              "      <td>3.000000</td>\n",
              "      <td>0.000000</td>\n",
              "      <td>0.000000</td>\n",
              "    </tr>\n",
              "    <tr>\n",
              "      <th>75%</th>\n",
              "      <td>93400.000000</td>\n",
              "      <td>1440.000000</td>\n",
              "      <td>3.000000</td>\n",
              "      <td>126.000000</td>\n",
              "      <td>126.000000</td>\n",
              "      <td>4.000000</td>\n",
              "      <td>4.000000</td>\n",
              "      <td>9.000000</td>\n",
              "      <td>9.000000</td>\n",
              "      <td>4.000000</td>\n",
              "      <td>5.000000</td>\n",
              "    </tr>\n",
              "    <tr>\n",
              "      <th>max</th>\n",
              "      <td>95880.000000</td>\n",
              "      <td>1440.000000</td>\n",
              "      <td>4.000000</td>\n",
              "      <td>1093.000000</td>\n",
              "      <td>1056.000000</td>\n",
              "      <td>47.000000</td>\n",
              "      <td>49.000000</td>\n",
              "      <td>94.000000</td>\n",
              "      <td>94.000000</td>\n",
              "      <td>288.000000</td>\n",
              "      <td>294.000000</td>\n",
              "    </tr>\n",
              "  </tbody>\n",
              "</table>\n",
              "</div>"
            ],
            "text/plain": [
              "        postal_code  n_daily_data_points  ...  slots_freed_sum  slots_taken_sum\n",
              "count  11544.000000         11544.000000  ...     11544.000000     11544.000000\n",
              "mean   88789.959286          1430.007277  ...        20.945166        20.921431\n",
              "std     7647.995374            36.882140  ...        47.900208        47.848580\n",
              "min    75001.000000          1174.000000  ...         0.000000         0.000000\n",
              "25%    91330.000000          1439.000000  ...         0.000000         0.000000\n",
              "50%    92340.000000          1440.000000  ...         0.000000         0.000000\n",
              "75%    93400.000000          1440.000000  ...         4.000000         5.000000\n",
              "max    95880.000000          1440.000000  ...       288.000000       294.000000\n",
              "\n",
              "[8 rows x 11 columns]"
            ]
          },
          "metadata": {
            "tags": []
          },
          "execution_count": 147
        }
      ]
    },
    {
      "cell_type": "markdown",
      "metadata": {
        "id": "rhzbBC0d_VKM"
      },
      "source": [
        "#### Measures of Spread/Dispersion"
      ]
    },
    {
      "cell_type": "code",
      "metadata": {
        "id": "zgiAg7sJtFzE",
        "colab": {
          "base_uri": "https://localhost:8080/"
        },
        "outputId": "df90701a-2f09-4956-e063-da910406bdb5"
      },
      "source": [
        "# variance of bluecars_returned_sum, bluecars_taken_sum, \n",
        "# slots_freed_sum & slots_taken_sum columns\n",
        "\n",
        "col = ['bluecars_returned_sum', 'bluecars_taken_sum', 'slots_freed_sum', 'slots_taken_sum']\n",
        "\n",
        "for column in col:\n",
        "  print((column, autolib[col].var()))\n",
        "\n",
        "# there is a significantly high variance in the distribution of bluecars taken "
      ],
      "execution_count": null,
      "outputs": [
        {
          "output_type": "stream",
          "text": [
            "('bluecars_returned_sum', bluecars_returned_sum    28339.955275\n",
            "bluecars_taken_sum       28773.286798\n",
            "slots_freed_sum           2294.429896\n",
            "slots_taken_sum           2289.486593\n",
            "dtype: float64)\n",
            "('bluecars_taken_sum', bluecars_returned_sum    28339.955275\n",
            "bluecars_taken_sum       28773.286798\n",
            "slots_freed_sum           2294.429896\n",
            "slots_taken_sum           2289.486593\n",
            "dtype: float64)\n",
            "('slots_freed_sum', bluecars_returned_sum    28339.955275\n",
            "bluecars_taken_sum       28773.286798\n",
            "slots_freed_sum           2294.429896\n",
            "slots_taken_sum           2289.486593\n",
            "dtype: float64)\n",
            "('slots_taken_sum', bluecars_returned_sum    28339.955275\n",
            "bluecars_taken_sum       28773.286798\n",
            "slots_freed_sum           2294.429896\n",
            "slots_taken_sum           2289.486593\n",
            "dtype: float64)\n"
          ],
          "name": "stdout"
        }
      ]
    },
    {
      "cell_type": "code",
      "metadata": {
        "id": "QmegJFYrtWAo",
        "colab": {
          "base_uri": "https://localhost:8080/"
        },
        "outputId": "a98459ee-798a-4801-ba09-246e0072d22d"
      },
      "source": [
        "# skewness of bluecars_returned_sum, bluecars_taken_sum, \n",
        "# slots_freed_sum & slots_taken_sum columns\n",
        "\n",
        "col = ['bluecars_returned_sum', 'bluecars_taken_sum', 'slots_freed_sum', 'slots_taken_sum']\n",
        "\n",
        "for column in col:\n",
        "  print((column, autob[col].skew()))\n",
        "\n",
        "  \n",
        "# the distribution of bluecars taken and slots taken exhibit positive skewness (i.e., are skewed to the right)\n",
        "# the modes of bluecars taken & slotes taken are less than the mean of bluecars taken and slots taken respectively."
      ],
      "execution_count": null,
      "outputs": [
        {
          "output_type": "stream",
          "text": [
            "('bluecars_returned_sum', bluecars_returned_sum    2.328973\n",
            "bluecars_taken_sum       2.328198\n",
            "slots_freed_sum          2.542187\n",
            "slots_taken_sum          2.542346\n",
            "dtype: float64)\n",
            "('bluecars_taken_sum', bluecars_returned_sum    2.328973\n",
            "bluecars_taken_sum       2.328198\n",
            "slots_freed_sum          2.542187\n",
            "slots_taken_sum          2.542346\n",
            "dtype: float64)\n",
            "('slots_freed_sum', bluecars_returned_sum    2.328973\n",
            "bluecars_taken_sum       2.328198\n",
            "slots_freed_sum          2.542187\n",
            "slots_taken_sum          2.542346\n",
            "dtype: float64)\n",
            "('slots_taken_sum', bluecars_returned_sum    2.328973\n",
            "bluecars_taken_sum       2.328198\n",
            "slots_freed_sum          2.542187\n",
            "slots_taken_sum          2.542346\n",
            "dtype: float64)\n"
          ],
          "name": "stdout"
        }
      ]
    },
    {
      "cell_type": "code",
      "metadata": {
        "id": "ZE1G5KwW02z4",
        "colab": {
          "base_uri": "https://localhost:8080/",
          "height": 714
        },
        "outputId": "eb151a8b-8dc2-40a5-8095-7218f597fcb8"
      },
      "source": [
        "#correlation\n",
        "heatmap = autolib.corr()\n",
        "plt.figure(figsize=(10,6))\n",
        "sns.heatmap(heatmap, xticklabels=heatmap.columns, yticklabels=heatmap.columns, annot=True)\n",
        "plt.title('Heatmap Showing Correlation Between Different Numerical Variables', fontsize=15, pad=2)\n",
        "plt.show()\n",
        "#The correlation shows that there is a correlation between the number of  blue cars taken and blue cars returned"
      ],
      "execution_count": null,
      "outputs": [
        {
          "output_type": "display_data",
          "data": {
            "image/png": "[encoded data removed]",
            "text/plain": [
              "<Figure size 1000x600 with 2 Axes>"
            ]
          },
          "metadata": {
            "tags": []
          }
        }
      ]
    },
    {
      "cell_type": "code",
      "metadata": {
        "id": "5rnwuI-8JDuX",
        "colab": {
          "base_uri": "https://localhost:8080/",
          "height": 478
        },
        "outputId": "be1d916a-d8fb-4079-c0b2-cc0df29db99e"
      },
      "source": [
        "# histogram showing the distribution of total number of cars taken\n",
        "\n",
        "plt.figure(figsize=(6,4))\n",
        "dis = sns.distplot(autob.bluecars_taken_sum, bins=10, color='red')\n",
        "plt.xlabel('Total Number of Cars Taken')\n",
        "plt.yticks(dis.get_yticks(), dis.get_yticks() * 100)\n",
        "plt.ylabel('Distribution [%]', fontsize=12)\n",
        "plt.title('Distribution of Total Number of Bluecars Taken')\n",
        "plt.show()\n",
        "\n",
        "# most common total number of bluecars taken was between 0-100"
      ],
      "execution_count": null,
      "outputs": [
        {
          "output_type": "stream",
          "text": [
            "/usr/local/lib/python3.7/dist-packages/seaborn/distributions.py:2557: FutureWarning: `distplot` is a deprecated function and will be removed in a future version. Please adapt your code to use either `displot` (a figure-level function with similar flexibility) or `histplot` (an axes-level function for histograms).\n",
            "  warnings.warn(msg, FutureWarning)\n"
          ],
          "name": "stderr"
        },
        {
          "output_type": "display_data",
          "data": {
            "image/png": "[encoded data removed]",
            "text/plain": [
              "<Figure size 600x400 with 1 Axes>"
            ]
          },
          "metadata": {
            "tags": []
          }
        }
      ]
    },
    {
      "cell_type": "code",
      "metadata": {
        "id": "sPM5aUEqZovB",
        "colab": {
          "base_uri": "https://localhost:8080/",
          "height": 541
        },
        "outputId": "dd238ba5-f771-46bb-f372-3e77288f0cf0"
      },
      "source": [
        "# barplot showing the distribution of entries/observations between mon-fri\n",
        "\n",
        "\n",
        "autolib.dayofweek.value_counts().plot(kind='bar', color='blue')\n",
        "plt.xticks(rotation=360)\n",
        "plt.xlabel('Day of Week')\n",
        "plt.ylabel('No. of Entries')\n",
        "plt.title('Distribution of Entries Between Days of the Week', fontsize=15)\n",
        "plt.show()\n",
        "\n",
        "# no. of entries for each day of week are somewhat evenly distributed ranging between 2200-2400\n",
        "# monday and tuesday had slightly more entries"
      ],
      "execution_count": null,
      "outputs": [
        {
          "output_type": "display_data",
          "data": {
            "image/png": "[encoded data removed]",
            "text/plain": [
              "<Figure size 800x550 with 1 Axes>"
            ]
          },
          "metadata": {
            "tags": []
          }
        }
      ]
    },
    {
      "cell_type": "markdown",
      "metadata": {
        "id": "ayIvRsqNVZ2c"
      },
      "source": [
        "### Bivariate Analysis"
      ]
    },
    {
      "cell_type": "markdown",
      "metadata": {
        "id": "aXaHDJvKmbyp"
      },
      "source": [
        "**line graph**"
      ]
    },
    {
      "cell_type": "code",
      "metadata": {
        "id": "OmUnnJIDBZYF",
        "colab": {
          "base_uri": "https://localhost:8080/",
          "height": 420
        },
        "outputId": "1b7b4ed9-2024-4dc1-cf46-fe69dffadda8"
      },
      "source": [
        "lg = autolib.iloc[:41,:]   # selecting the first 40 observations from the autolib data\n",
        "\n",
        "# plotting a line graph of sum of bluecars taken and sum of recharging slots freed\n",
        "plt.figure(figsize=(13,3))\n",
        "plt.plot(autm.date, autm.bluecars_taken_sum)\n",
        "plt.xticks(autm.date, rotation=90)\n",
        "\n",
        "plt.xlabel('Date')\n",
        "plt.ylabel('Sum of Bluecars Taken')\n",
        "plt.title('Line Graph Showing Trend in Taking Bluecars', fontsize=12)\n",
        "plt.show()\n",
        "\n",
        "# output reveals a constant fluctuation in the trend of taking bluecars\n",
        "# lowest number of sum of bluecars taken was on 09/01/2018,29/01/2018 and 19/02/2018."
      ],
      "execution_count": null,
      "outputs": [
        {
          "output_type": "display_data",
          "data": {
            "image/png": "[encoded data removed]",
            "text/plain": [
              "<Figure size 1300x300 with 1 Axes>"
            ]
          },
          "metadata": {
            "tags": []
          }
        }
      ]
    },
    {
      "cell_type": "markdown",
      "metadata": {
        "id": "Y6oaj-damUIw"
      },
      "source": [
        "**scatter plot**"
      ]
    },
    {
      "cell_type": "code",
      "metadata": {
        "id": "vSfngywITnN1",
        "colab": {
          "base_uri": "https://localhost:8080/",
          "height": 424
        },
        "outputId": "b4b942af-e03b-4e7f-c776-ff2cbad1836a"
      },
      "source": [
        "plt.figure(figsize=(6,4))\n",
        "plt.scatter(autolib.bluecars_taken_sum, autolib.bluecars_returned_sum)\n",
        "plt.xlabel('Sum of Bluecars Taken')\n",
        "plt.ylabel('Sum of blue cars returned')\n",
        "plt.title('Scatter Plot for Bluecars Taken vs Returned', fontsize=15)\n",
        "plt.show()\n",
        "\n",
        "# scatter plot reveals a perfect linear relationship (i.e positive correlation) between the sum of bluecars taken and sum of bluecars returned.\n",
        "# the two columns can be considered to provide the same information"
      ],
      "execution_count": null,
      "outputs": [
        {
          "output_type": "display_data",
          "data": {
            "image/png": "[encoded data removed]",
            "text/plain": [
              "<Figure size 600x400 with 1 Axes>"
            ]
          },
          "metadata": {
            "tags": []
          }
        }
      ]
    },
    {
      "cell_type": "code",
      "metadata": {
        "id": "QQfG9UJeBiod",
        "colab": {
          "base_uri": "https://localhost:8080/",
          "height": 578
        },
        "outputId": "85ba882b-00b4-4435-d6e1-2f12d3f10964"
      },
      "source": [
        "plt.figure(figsize=(8,6))\n",
        "plt.scatter(autob.bluecars_taken_sum, autob.slots_freed_sum, color='red')\n",
        "plt.xlabel('Sum of Bluecars Taken')\n",
        "plt.ylabel('Sum of Recharging Slots Freed')\n",
        "plt.title('Scatter Plot for Bluecars Taken vs Slots Freed', fontsize=15)\n",
        "plt.show()\n",
        "\n",
        "# scatter plot reveals sum of bluecars taken and sum of slots freed are highly correlated (i.e positive correlation)"
      ],
      "execution_count": null,
      "outputs": [
        {
          "output_type": "display_data",
          "data": {
            "image/png": "[encoded data removed]",
            "text/plain": [
              "<Figure size 800x600 with 1 Axes>"
            ]
          },
          "metadata": {
            "tags": []
          }
        }
      ]
    },
    {
      "cell_type": "markdown",
      "metadata": {
        "id": "vdBK8HEuM5dM"
      },
      "source": [
        "#### Correlation"
      ]
    },
    {
      "cell_type": "code",
      "metadata": {
        "id": "7AA1cSGKHWhw",
        "colab": {
          "base_uri": "https://localhost:8080/"
        },
        "outputId": "78a66e05-067f-43a4-f9c4-8770c0d7a597"
      },
      "source": [
        "# pearson/standard correlation coefficient between sum of bluecars taken and sum of blue cars returned\n",
        "\n",
        "pearson = autolib.bluecars_taken_sum.corr(autolib.bluecars_returned_sum, method='pearson')\n",
        "print(pearson)\n",
        "\n",
        "# output reveals a perfect linear correlation between the sum of bluecars taken and the sum of bluecars returned"
      ],
      "execution_count": null,
      "outputs": [
        {
          "output_type": "stream",
          "text": [
            "0.9987802776217566\n"
          ],
          "name": "stdout"
        }
      ]
    },
    {
      "cell_type": "markdown",
      "metadata": {
        "id": "2Ow7zuBTA35Z"
      },
      "source": [
        "## Hypothesis Testing"
      ]
    },
    {
      "cell_type": "markdown",
      "metadata": {
        "id": "YGEXw3pKBGxX"
      },
      "source": [
        "### Simple Sample Random Sampling"
      ]
    },
    {
      "cell_type": "code",
      "metadata": {
        "id": "CJ9sBujr8r-U",
        "colab": {
          "base_uri": "https://localhost:8080/",
          "height": 305
        },
        "outputId": "c523d4c4-687c-4e5a-bcd8-6d0602036534"
      },
      "source": [
        "# using simple random sampling to create a sample (sample 1)\n",
        "# the size of the sample is 30% of the data\n",
        "\n",
        "samp1 = autolib.sample(frac=0.3, random_state=101)\n",
        "samp1.head()\n"
      ],
      "execution_count": null,
      "outputs": [
        {
          "output_type": "execute_result",
          "data": {
            "text/html": [
              "<div>\n",
              "<style scoped>\n",
              "    .dataframe tbody tr th:only-of-type {\n",
              "        vertical-align: middle;\n",
              "    }\n",
              "\n",
              "    .dataframe tbody tr th {\n",
              "        vertical-align: top;\n",
              "    }\n",
              "\n",
              "    .dataframe thead th {\n",
              "        text-align: right;\n",
              "    }\n",
              "</style>\n",
              "<table border=\"1\" class=\"dataframe\">\n",
              "  <thead>\n",
              "    <tr style=\"text-align: right;\">\n",
              "      <th></th>\n",
              "      <th>postal_code</th>\n",
              "      <th>date</th>\n",
              "      <th>n_daily_data_points</th>\n",
              "      <th>dayofweek</th>\n",
              "      <th>day_type</th>\n",
              "      <th>bluecars_taken_sum</th>\n",
              "      <th>bluecars_returned_sum</th>\n",
              "      <th>utilib_taken_sum</th>\n",
              "      <th>utilib_returned_sum</th>\n",
              "      <th>utilib_14_taken_sum</th>\n",
              "      <th>utilib_14_returned_sum</th>\n",
              "      <th>slots_freed_sum</th>\n",
              "      <th>slots_taken_sum</th>\n",
              "    </tr>\n",
              "  </thead>\n",
              "  <tbody>\n",
              "    <tr>\n",
              "      <th>5677</th>\n",
              "      <td>92170</td>\n",
              "      <td>2018-03-09</td>\n",
              "      <td>1440</td>\n",
              "      <td>4</td>\n",
              "      <td>weekday</td>\n",
              "      <td>83</td>\n",
              "      <td>84</td>\n",
              "      <td>0</td>\n",
              "      <td>0</td>\n",
              "      <td>5</td>\n",
              "      <td>4</td>\n",
              "      <td>0</td>\n",
              "      <td>0</td>\n",
              "    </tr>\n",
              "    <tr>\n",
              "      <th>3738</th>\n",
              "      <td>78140</td>\n",
              "      <td>2018-06-15</td>\n",
              "      <td>1440</td>\n",
              "      <td>4</td>\n",
              "      <td>weekday</td>\n",
              "      <td>31</td>\n",
              "      <td>31</td>\n",
              "      <td>1</td>\n",
              "      <td>0</td>\n",
              "      <td>4</td>\n",
              "      <td>4</td>\n",
              "      <td>0</td>\n",
              "      <td>0</td>\n",
              "    </tr>\n",
              "    <tr>\n",
              "      <th>7153</th>\n",
              "      <td>92270</td>\n",
              "      <td>2018-05-31</td>\n",
              "      <td>1411</td>\n",
              "      <td>3</td>\n",
              "      <td>weekday</td>\n",
              "      <td>30</td>\n",
              "      <td>24</td>\n",
              "      <td>0</td>\n",
              "      <td>0</td>\n",
              "      <td>3</td>\n",
              "      <td>5</td>\n",
              "      <td>0</td>\n",
              "      <td>0</td>\n",
              "    </tr>\n",
              "    <tr>\n",
              "      <th>14707</th>\n",
              "      <td>94340</td>\n",
              "      <td>2018-01-26</td>\n",
              "      <td>1437</td>\n",
              "      <td>4</td>\n",
              "      <td>weekday</td>\n",
              "      <td>48</td>\n",
              "      <td>51</td>\n",
              "      <td>0</td>\n",
              "      <td>0</td>\n",
              "      <td>4</td>\n",
              "      <td>3</td>\n",
              "      <td>0</td>\n",
              "      <td>0</td>\n",
              "    </tr>\n",
              "    <tr>\n",
              "      <th>7921</th>\n",
              "      <td>92330</td>\n",
              "      <td>2018-05-08</td>\n",
              "      <td>1425</td>\n",
              "      <td>1</td>\n",
              "      <td>weekday</td>\n",
              "      <td>44</td>\n",
              "      <td>40</td>\n",
              "      <td>1</td>\n",
              "      <td>2</td>\n",
              "      <td>5</td>\n",
              "      <td>9</td>\n",
              "      <td>4</td>\n",
              "      <td>2</td>\n",
              "    </tr>\n",
              "  </tbody>\n",
              "</table>\n",
              "</div>"
            ],
            "text/plain": [
              "       postal_code       date  ...  slots_freed_sum  slots_taken_sum\n",
              "5677         92170 2018-03-09  ...                0                0\n",
              "3738         78140 2018-06-15  ...                0                0\n",
              "7153         92270 2018-05-31  ...                0                0\n",
              "14707        94340 2018-01-26  ...                0                0\n",
              "7921         92330 2018-05-08  ...                4                2\n",
              "\n",
              "[5 rows x 13 columns]"
            ]
          },
          "metadata": {
            "tags": []
          },
          "execution_count": 157
        }
      ]
    },
    {
      "cell_type": "code",
      "metadata": {
        "id": "yH2V2DSCCCtB",
        "colab": {
          "base_uri": "https://localhost:8080/"
        },
        "outputId": "1f2f54e9-85c0-4f37-c032-2b29b3afaef5"
      },
      "source": [
        "# checking shape of sample 1\n",
        "samp1.shape\n",
        "\n",
        "# our sample (created from the autob datframe) has 3,463 rows and 11 columns "
      ],
      "execution_count": null,
      "outputs": [
        {
          "output_type": "execute_result",
          "data": {
            "text/plain": [
              "(3463, 13)"
            ]
          },
          "metadata": {
            "tags": []
          },
          "execution_count": 158
        }
      ]
    },
    {
      "cell_type": "code",
      "metadata": {
        "id": "P80xUIqgBSaM",
        "colab": {
          "base_uri": "https://localhost:8080/",
          "height": 202
        },
        "outputId": "f4074c20-db2f-4b04-9f89-9bb4c1989d92"
      },
      "source": [
        "# grouping sample 1 by dayofweek and displaying sum of bluecars taken\n",
        "\n",
        "s1 = samp1.groupby('dayofweek')[['bluecars_taken_sum']].sum().reset_index()\n",
        "s1['dayofweek'] = s1['dayofweek'].map({0: 'Monday', 1: 'Tuesday', 2: 'Wednesday', 3: 'Thursday', 4: 'Friday'})\n",
        "s1"
      ],
      "execution_count": null,
      "outputs": [
        {
          "output_type": "execute_result",
          "data": {
            "text/html": [
              "<div>\n",
              "<style scoped>\n",
              "    .dataframe tbody tr th:only-of-type {\n",
              "        vertical-align: middle;\n",
              "    }\n",
              "\n",
              "    .dataframe tbody tr th {\n",
              "        vertical-align: top;\n",
              "    }\n",
              "\n",
              "    .dataframe thead th {\n",
              "        text-align: right;\n",
              "    }\n",
              "</style>\n",
              "<table border=\"1\" class=\"dataframe\">\n",
              "  <thead>\n",
              "    <tr style=\"text-align: right;\">\n",
              "      <th></th>\n",
              "      <th>dayofweek</th>\n",
              "      <th>bluecars_taken_sum</th>\n",
              "    </tr>\n",
              "  </thead>\n",
              "  <tbody>\n",
              "    <tr>\n",
              "      <th>0</th>\n",
              "      <td>Monday</td>\n",
              "      <td>80151</td>\n",
              "    </tr>\n",
              "    <tr>\n",
              "      <th>1</th>\n",
              "      <td>Tuesday</td>\n",
              "      <td>81031</td>\n",
              "    </tr>\n",
              "    <tr>\n",
              "      <th>2</th>\n",
              "      <td>Wednesday</td>\n",
              "      <td>79700</td>\n",
              "    </tr>\n",
              "    <tr>\n",
              "      <th>3</th>\n",
              "      <td>Thursday</td>\n",
              "      <td>80698</td>\n",
              "    </tr>\n",
              "    <tr>\n",
              "      <th>4</th>\n",
              "      <td>Friday</td>\n",
              "      <td>89593</td>\n",
              "    </tr>\n",
              "  </tbody>\n",
              "</table>\n",
              "</div>"
            ],
            "text/plain": [
              "   dayofweek  bluecars_taken_sum\n",
              "0     Monday               80151\n",
              "1    Tuesday               81031\n",
              "2  Wednesday               79700\n",
              "3   Thursday               80698\n",
              "4     Friday               89593"
            ]
          },
          "metadata": {
            "tags": []
          },
          "execution_count": 159
        }
      ]
    },
    {
      "cell_type": "markdown",
      "metadata": {
        "id": "Ncy7JeamD5-f"
      },
      "source": [
        "# Stratified sampling"
      ]
    },
    {
      "cell_type": "code",
      "metadata": {
        "id": "lTuruNz5wkbd",
        "colab": {
          "base_uri": "https://localhost:8080/",
          "height": 601
        },
        "outputId": "8505a246-d0df-44e6-92a1-836d0496ba61"
      },
      "source": [
        "# Stratified sample\n",
        "df4 = autolib.groupby('dayofweek', group_keys=False).apply(lambda grouped_subset : grouped_subset.sample(frac=0.1))\n",
        "df4\n"
      ],
      "execution_count": null,
      "outputs": [
        {
          "output_type": "execute_result",
          "data": {
            "text/html": [
              "<div>\n",
              "<style scoped>\n",
              "    .dataframe tbody tr th:only-of-type {\n",
              "        vertical-align: middle;\n",
              "    }\n",
              "\n",
              "    .dataframe tbody tr th {\n",
              "        vertical-align: top;\n",
              "    }\n",
              "\n",
              "    .dataframe thead th {\n",
              "        text-align: right;\n",
              "    }\n",
              "</style>\n",
              "<table border=\"1\" class=\"dataframe\">\n",
              "  <thead>\n",
              "    <tr style=\"text-align: right;\">\n",
              "      <th></th>\n",
              "      <th>postal_code</th>\n",
              "      <th>date</th>\n",
              "      <th>n_daily_data_points</th>\n",
              "      <th>dayofweek</th>\n",
              "      <th>day_type</th>\n",
              "      <th>bluecars_taken_sum</th>\n",
              "      <th>bluecars_returned_sum</th>\n",
              "      <th>utilib_taken_sum</th>\n",
              "      <th>utilib_returned_sum</th>\n",
              "      <th>utilib_14_taken_sum</th>\n",
              "      <th>utilib_14_returned_sum</th>\n",
              "      <th>slots_freed_sum</th>\n",
              "      <th>slots_taken_sum</th>\n",
              "    </tr>\n",
              "  </thead>\n",
              "  <tbody>\n",
              "    <tr>\n",
              "      <th>5769</th>\n",
              "      <td>92190</td>\n",
              "      <td>2018-01-01</td>\n",
              "      <td>1440</td>\n",
              "      <td>0</td>\n",
              "      <td>weekday</td>\n",
              "      <td>65</td>\n",
              "      <td>67</td>\n",
              "      <td>2</td>\n",
              "      <td>2</td>\n",
              "      <td>4</td>\n",
              "      <td>4</td>\n",
              "      <td>0</td>\n",
              "      <td>0</td>\n",
              "    </tr>\n",
              "    <tr>\n",
              "      <th>10635</th>\n",
              "      <td>93170</td>\n",
              "      <td>2018-02-19</td>\n",
              "      <td>1420</td>\n",
              "      <td>0</td>\n",
              "      <td>weekday</td>\n",
              "      <td>35</td>\n",
              "      <td>34</td>\n",
              "      <td>1</td>\n",
              "      <td>2</td>\n",
              "      <td>10</td>\n",
              "      <td>8</td>\n",
              "      <td>0</td>\n",
              "      <td>0</td>\n",
              "    </tr>\n",
              "    <tr>\n",
              "      <th>13501</th>\n",
              "      <td>94120</td>\n",
              "      <td>2018-03-12</td>\n",
              "      <td>1440</td>\n",
              "      <td>0</td>\n",
              "      <td>weekday</td>\n",
              "      <td>29</td>\n",
              "      <td>31</td>\n",
              "      <td>1</td>\n",
              "      <td>2</td>\n",
              "      <td>2</td>\n",
              "      <td>1</td>\n",
              "      <td>0</td>\n",
              "      <td>0</td>\n",
              "    </tr>\n",
              "    <tr>\n",
              "      <th>14377</th>\n",
              "      <td>94230</td>\n",
              "      <td>2018-01-08</td>\n",
              "      <td>1438</td>\n",
              "      <td>0</td>\n",
              "      <td>weekday</td>\n",
              "      <td>41</td>\n",
              "      <td>42</td>\n",
              "      <td>1</td>\n",
              "      <td>1</td>\n",
              "      <td>3</td>\n",
              "      <td>2</td>\n",
              "      <td>0</td>\n",
              "      <td>0</td>\n",
              "    </tr>\n",
              "    <tr>\n",
              "      <th>9230</th>\n",
              "      <td>92420</td>\n",
              "      <td>2018-02-12</td>\n",
              "      <td>1440</td>\n",
              "      <td>0</td>\n",
              "      <td>weekday</td>\n",
              "      <td>11</td>\n",
              "      <td>14</td>\n",
              "      <td>0</td>\n",
              "      <td>0</td>\n",
              "      <td>1</td>\n",
              "      <td>0</td>\n",
              "      <td>0</td>\n",
              "      <td>0</td>\n",
              "    </tr>\n",
              "    <tr>\n",
              "      <th>...</th>\n",
              "      <td>...</td>\n",
              "      <td>...</td>\n",
              "      <td>...</td>\n",
              "      <td>...</td>\n",
              "      <td>...</td>\n",
              "      <td>...</td>\n",
              "      <td>...</td>\n",
              "      <td>...</td>\n",
              "      <td>...</td>\n",
              "      <td>...</td>\n",
              "      <td>...</td>\n",
              "      <td>...</td>\n",
              "      <td>...</td>\n",
              "    </tr>\n",
              "    <tr>\n",
              "      <th>1468</th>\n",
              "      <td>75010</td>\n",
              "      <td>2018-03-09</td>\n",
              "      <td>1440</td>\n",
              "      <td>4</td>\n",
              "      <td>weekday</td>\n",
              "      <td>314</td>\n",
              "      <td>306</td>\n",
              "      <td>15</td>\n",
              "      <td>15</td>\n",
              "      <td>29</td>\n",
              "      <td>28</td>\n",
              "      <td>67</td>\n",
              "      <td>68</td>\n",
              "    </tr>\n",
              "    <tr>\n",
              "      <th>14381</th>\n",
              "      <td>94230</td>\n",
              "      <td>2018-01-12</td>\n",
              "      <td>1439</td>\n",
              "      <td>4</td>\n",
              "      <td>weekday</td>\n",
              "      <td>41</td>\n",
              "      <td>39</td>\n",
              "      <td>0</td>\n",
              "      <td>0</td>\n",
              "      <td>8</td>\n",
              "      <td>7</td>\n",
              "      <td>0</td>\n",
              "      <td>0</td>\n",
              "    </tr>\n",
              "    <tr>\n",
              "      <th>9251</th>\n",
              "      <td>92420</td>\n",
              "      <td>2018-03-09</td>\n",
              "      <td>1440</td>\n",
              "      <td>4</td>\n",
              "      <td>weekday</td>\n",
              "      <td>17</td>\n",
              "      <td>15</td>\n",
              "      <td>0</td>\n",
              "      <td>0</td>\n",
              "      <td>0</td>\n",
              "      <td>0</td>\n",
              "      <td>0</td>\n",
              "      <td>0</td>\n",
              "    </tr>\n",
              "    <tr>\n",
              "      <th>12210</th>\n",
              "      <td>93440</td>\n",
              "      <td>2018-01-19</td>\n",
              "      <td>1440</td>\n",
              "      <td>4</td>\n",
              "      <td>weekday</td>\n",
              "      <td>2</td>\n",
              "      <td>3</td>\n",
              "      <td>0</td>\n",
              "      <td>0</td>\n",
              "      <td>0</td>\n",
              "      <td>1</td>\n",
              "      <td>0</td>\n",
              "      <td>0</td>\n",
              "    </tr>\n",
              "    <tr>\n",
              "      <th>2840</th>\n",
              "      <td>75019</td>\n",
              "      <td>2018-02-02</td>\n",
              "      <td>1440</td>\n",
              "      <td>4</td>\n",
              "      <td>weekday</td>\n",
              "      <td>479</td>\n",
              "      <td>482</td>\n",
              "      <td>9</td>\n",
              "      <td>13</td>\n",
              "      <td>35</td>\n",
              "      <td>30</td>\n",
              "      <td>131</td>\n",
              "      <td>131</td>\n",
              "    </tr>\n",
              "  </tbody>\n",
              "</table>\n",
              "<p>1154 rows × 13 columns</p>\n",
              "</div>"
            ],
            "text/plain": [
              "       postal_code       date  ...  slots_freed_sum  slots_taken_sum\n",
              "5769         92190 2018-01-01  ...                0                0\n",
              "10635        93170 2018-02-19  ...                0                0\n",
              "13501        94120 2018-03-12  ...                0                0\n",
              "14377        94230 2018-01-08  ...                0                0\n",
              "9230         92420 2018-02-12  ...                0                0\n",
              "...            ...        ...  ...              ...              ...\n",
              "1468         75010 2018-03-09  ...               67               68\n",
              "14381        94230 2018-01-12  ...                0                0\n",
              "9251         92420 2018-03-09  ...                0                0\n",
              "12210        93440 2018-01-19  ...                0                0\n",
              "2840         75019 2018-02-02  ...              131              131\n",
              "\n",
              "[1154 rows x 13 columns]"
            ]
          },
          "metadata": {
            "tags": []
          },
          "execution_count": 160
        }
      ]
    },
    {
      "cell_type": "code",
      "metadata": {
        "colab": {
          "base_uri": "https://localhost:8080/"
        },
        "id": "ISTmauiKOcLf",
        "outputId": "4669a0b7-e8db-4144-a1c0-f9a723c9dee7"
      },
      "source": [
        "# sample mean\n",
        "sm= df4['bluecars_taken_sum'].mean()\n",
        "sm"
      ],
      "execution_count": null,
      "outputs": [
        {
          "output_type": "execute_result",
          "data": {
            "text/plain": [
              "122.36221837088388"
            ]
          },
          "metadata": {
            "tags": []
          },
          "execution_count": 161
        }
      ]
    },
    {
      "cell_type": "code",
      "metadata": {
        "colab": {
          "base_uri": "https://localhost:8080/"
        },
        "id": "xL1awrwaOb67",
        "outputId": "820434fb-ba19-4581-ddc8-6b802520cea4"
      },
      "source": [
        "# sample standard deviation\n",
        "sd = df4['bluecars_taken_sum'].std()\n",
        "sd"
      ],
      "execution_count": null,
      "outputs": [
        {
          "output_type": "execute_result",
          "data": {
            "text/plain": [
              "175.28422858775795"
            ]
          },
          "metadata": {
            "tags": []
          },
          "execution_count": 162
        }
      ]
    },
    {
      "cell_type": "code",
      "metadata": {
        "colab": {
          "base_uri": "https://localhost:8080/"
        },
        "id": "Z3h9eAfqObqd",
        "outputId": "2c799db4-fcf7-4f86-a2b8-7f0d1ed97f72"
      },
      "source": [
        "#population mean\n",
        "pm=autolib['bluecars_taken_sum'].mean()\n",
        "pm"
      ],
      "execution_count": null,
      "outputs": [
        {
          "output_type": "execute_result",
          "data": {
            "text/plain": [
              "116.0286729036729"
            ]
          },
          "metadata": {
            "tags": []
          },
          "execution_count": 163
        }
      ]
    },
    {
      "cell_type": "code",
      "metadata": {
        "colab": {
          "base_uri": "https://localhost:8080/"
        },
        "id": "dQBTbw2tQXTb",
        "outputId": "41be88a9-5d2d-4aa5-fc44-3c309e0c3951"
      },
      "source": [
        "# calculating the z-score\n",
        "zscore = (sm-pm) / sd\n",
        "zscore"
      ],
      "execution_count": null,
      "outputs": [
        {
          "output_type": "execute_result",
          "data": {
            "text/plain": [
              "0.03613300248538917"
            ]
          },
          "metadata": {
            "tags": []
          },
          "execution_count": 164
        }
      ]
    },
    {
      "cell_type": "code",
      "metadata": {
        "colab": {
          "base_uri": "https://localhost:8080/"
        },
        "id": "HkjNiQm8QW-A",
        "outputId": "00b4bf06-2fce-4e13-e80f-9f19975831c2"
      },
      "source": [
        "\n",
        "#calculating the p value\n",
        "import scipy.stats as stats\n",
        "from scipy.stats import norm\n",
        "pvalue = stats.norm.cdf(zscore)\n",
        "pvalue"
      ],
      "execution_count": null,
      "outputs": [
        {
          "output_type": "execute_result",
          "data": {
            "text/plain": [
              "0.5144118463380203"
            ]
          },
          "metadata": {
            "tags": []
          },
          "execution_count": 165
        }
      ]
    },
    {
      "cell_type": "code",
      "metadata": {
        "colab": {
          "base_uri": "https://localhost:8080/"
        },
        "id": "9B6gujAWS_cJ",
        "outputId": "51e4af0f-2751-494b-e47e-eb53d26d1c71"
      },
      "source": [
        "#interpretation of the p value\n",
        "if pvalue < 0.05:    # alpha value is 0.05 or 5%\n",
        "   print(\" we are rejecting null hypothesis\")\n",
        "else:\n",
        "  print(\"we fail to reject null hypothesis\")"
      ],
      "execution_count": null,
      "outputs": [
        {
          "output_type": "stream",
          "text": [
            "we fail to reject null hypothesis\n"
          ],
          "name": "stdout"
        }
      ]
    },
    {
      "cell_type": "code",
      "metadata": {
        "colab": {
          "base_uri": "https://localhost:8080/"
        },
        "id": "11eVhCcpS_L5",
        "outputId": "90e51c9d-ecbc-42f6-ad14-df51f6fe48b7"
      },
      "source": [
        "# point estimation\n",
        "# population.mean() - sample.mean()\n",
        "# we will use the mean for the blue cars that were taken\n",
        "\n",
        "autolib['bluecars_taken_sum'].mean() - df4['bluecars_taken_sum'].mean()\n",
        "\n"
      ],
      "execution_count": null,
      "outputs": [
        {
          "output_type": "execute_result",
          "data": {
            "text/plain": [
              "-6.333545467210982"
            ]
          },
          "metadata": {
            "tags": []
          },
          "execution_count": 167
        }
      ]
    },
    {
      "cell_type": "markdown",
      "metadata": {
        "id": "bWVBG1orXBWL"
      },
      "source": [
        "Since the p value (0.5) is greater than the assumed level of significance of 0.05, we fail to reject the null hypothesis that there is no difference in the number of cars taken from stations in different days of the week.\n",
        "\n",
        "Thus, the test results reveal that there is a negligible difference between the number of cars taken and returned from stations in different days of the week."
      ]
    },
    {
      "cell_type": "markdown",
      "metadata": {
        "id": "xzhti38MXDPF"
      },
      "source": [
        "#### Challenge Solution"
      ]
    },
    {
      "cell_type": "code",
      "metadata": {
        "id": "8K9qXtryDXKb",
        "colab": {
          "base_uri": "https://localhost:8080/",
          "height": 232
        },
        "outputId": "5ab82eba-1825-4c21-9095-fbf0813de246"
      },
      "source": [
        "# grouping the population by day of week and displaying the sum of bluecars taken each day\n",
        "\n",
        "group_cars = autolib.groupby('dayofweek')[['bluecars_taken_sum','bluecars_returned_sum']].sum()\n",
        "group_cars.head()\n",
        "#it is noted that there is a very slight difference in cars taken and cars returned"
      ],
      "execution_count": null,
      "outputs": [
        {
          "output_type": "execute_result",
          "data": {
            "text/html": [
              "<div>\n",
              "<style scoped>\n",
              "    .dataframe tbody tr th:only-of-type {\n",
              "        vertical-align: middle;\n",
              "    }\n",
              "\n",
              "    .dataframe tbody tr th {\n",
              "        vertical-align: top;\n",
              "    }\n",
              "\n",
              "    .dataframe thead th {\n",
              "        text-align: right;\n",
              "    }\n",
              "</style>\n",
              "<table border=\"1\" class=\"dataframe\">\n",
              "  <thead>\n",
              "    <tr style=\"text-align: right;\">\n",
              "      <th></th>\n",
              "      <th>bluecars_taken_sum</th>\n",
              "      <th>bluecars_returned_sum</th>\n",
              "    </tr>\n",
              "    <tr>\n",
              "      <th>dayofweek</th>\n",
              "      <th></th>\n",
              "      <th></th>\n",
              "    </tr>\n",
              "  </thead>\n",
              "  <tbody>\n",
              "    <tr>\n",
              "      <th>0</th>\n",
              "      <td>263893</td>\n",
              "      <td>264808</td>\n",
              "    </tr>\n",
              "    <tr>\n",
              "      <th>1</th>\n",
              "      <td>261940</td>\n",
              "      <td>260470</td>\n",
              "    </tr>\n",
              "    <tr>\n",
              "      <th>2</th>\n",
              "      <td>261849</td>\n",
              "      <td>260673</td>\n",
              "    </tr>\n",
              "    <tr>\n",
              "      <th>3</th>\n",
              "      <td>263207</td>\n",
              "      <td>262961</td>\n",
              "    </tr>\n",
              "    <tr>\n",
              "      <th>4</th>\n",
              "      <td>288546</td>\n",
              "      <td>286029</td>\n",
              "    </tr>\n",
              "  </tbody>\n",
              "</table>\n",
              "</div>"
            ],
            "text/plain": [
              "           bluecars_taken_sum  bluecars_returned_sum\n",
              "dayofweek                                           \n",
              "0                      263893                 264808\n",
              "1                      261940                 260470\n",
              "2                      261849                 260673\n",
              "3                      263207                 262961\n",
              "4                      288546                 286029"
            ]
          },
          "metadata": {
            "tags": []
          },
          "execution_count": 168
        }
      ]
    },
    {
      "cell_type": "markdown",
      "metadata": {
        "id": "Ci8yk4dTH9wS"
      },
      "source": [
        "## Conclusion"
      ]
    },
    {
      "cell_type": "markdown",
      "metadata": {
        "id": "BG2z2JlbIC3T"
      },
      "source": [
        "\n",
        "*   Since the determined p-value is above the level of significance of 0.05 we fail to reject the null hypothesis.\n",
        "\n",
        "*   Thus, we conclude that there is a negligible difference in the total number of cars taken from stations in different days of the week.\n",
        "\n",
        "*   The test results are backed by the results of the groupby() function which reveal a very slight difference in the number of cars between monday - friday. \n",
        "\n",
        "*   An assumption taken is that highly correlated features/variables represent the same information and can therefore be used interchangeably.\n",
        "\n",
        "\n",
        "\n",
        "\n",
        "\n",
        "\n",
        "\n",
        "\n"
      ]
    }
  ]
}